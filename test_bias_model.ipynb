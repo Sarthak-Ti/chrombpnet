{
 "cells": [
  {
   "cell_type": "code",
   "execution_count": 2,
   "metadata": {},
   "outputs": [
    {
     "name": "stdout",
     "output_type": "stream",
     "text": [
      "() () ()\n",
      "(285732, 1024, 4) (285732, 500) (285732, 4)\n"
     ]
    }
   ],
   "source": [
    "#Let's load the data and see what it is, first the training data\n",
    "\n",
    "import numpy as np\n",
    "peak_seqs = np.load('/data/leslie/sarthak/data/chrombpnet_test/bias_data/train/peak_seqs.npy', allow_pickle=True)\n",
    "peak_cts = np.load('/data/leslie/sarthak/data/chrombpnet_test/bias_data/train/peak_cts.npy', allow_pickle=True)\n",
    "peak_coords = np.load('/data/leslie/sarthak/data/chrombpnet_test/bias_data/train/peak_coords.npy', allow_pickle=True)\n",
    "nonpeak_seqs = np.load('/data/leslie/sarthak/data/chrombpnet_test/bias_data/train/nonpeak_seqs.npy') #only these are not empty, these ones are defined by the bias pipeline?\n",
    "nonpeak_cts = np.load('/data/leslie/sarthak/data/chrombpnet_test/bias_data/train/nonpeak_cts.npy')\n",
    "nonpeak_coords = np.load('/data/leslie/sarthak/data/chrombpnet_test/bias_data/train/nonpeak_coords.npy')\n",
    "\n",
    "print(peak_seqs.shape, peak_cts.shape, peak_coords.shape)\n",
    "print(nonpeak_seqs.shape, nonpeak_cts.shape, nonpeak_coords.shape)"
   ]
  }
 ],
 "metadata": {
  "kernelspec": {
   "display_name": "Python 3",
   "language": "python",
   "name": "python3"
  },
  "language_info": {
   "codemirror_mode": {
    "name": "ipython",
    "version": 3
   },
   "file_extension": ".py",
   "mimetype": "text/x-python",
   "name": "python",
   "nbconvert_exporter": "python",
   "pygments_lexer": "ipython3",
   "version": "3.10.8"
  }
 },
 "nbformat": 4,
 "nbformat_minor": 2
}
