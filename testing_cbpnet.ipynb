{
 "cells": [
  {
   "cell_type": "markdown",
   "metadata": {},
   "source": [
    "# testing_cbpnet\n",
    "\n",
    "The point of this file is to test chrombpnet to make sure that we understand how it works\n",
    "\n",
    "The first step is the inputs and outputs of the model. We will create a fake args so we can easily put it into the various functions"
   ]
  },
  {
   "cell_type": "code",
   "execution_count": 1,
   "metadata": {},
   "outputs": [
    {
     "name": "stdout",
     "output_type": "stream",
     "text": [
      "Namespace(cmd='pipeline', genome='hg38.fa', chrom_sizes='hg38.chrom.sizes', input_bam_file='merged.bam', input_fragment_file=None, input_tagalign_file=None, output_dir='chrombpnet_model/', data_type='ATAC', peaks='peaks_no_blacklist.bed', nonpeaks='output_negatives.bed', chr_fold_path='splits/fold_0.json', outlier_threshold=0.9999, ATAC_ref_path=None, DNASE_ref_path=None, num_samples=10000, inputlen=2114, outputlen=1000, seed=1234, epochs=50, early_stop=5, learning_rate=0.001, trackables=['logcount_predictions_loss', 'loss', 'logits_profile_predictions_loss', 'val_logcount_predictions_loss', 'val_loss', 'val_logits_profile_predictions_loss'], architecture_from_file=None, file_prefix=None, html_prefix='./', bsort=False, tmpdir=None, no_st=False, bias_model_path='bias_model/models/k562_bias.h5', negative_sampling_ratio=0.1, filters=512, n_dilation_layers=8, max_jitter=500, batch_size=64)\n"
     ]
    }
   ],
   "source": [
    "import argparse\n",
    "import sys\n",
    "sys.path.append('/data/leslie/sarthak/chrombpnet/')\n",
    "sys.path.append('/data/leslie/sarthak/chrombpnet/utils/')\n",
    "from utils.test_args import main\n",
    "sys.argv = [\n",
    "    'test_args.py', 'pipeline',\n",
    "    '-ibam', 'merged.bam',\n",
    "    '-d', 'ATAC',\n",
    "    '-g', 'hg38.fa',\n",
    "    '-c', 'hg38.chrom.sizes',\n",
    "    '-p', 'peaks_no_blacklist.bed',\n",
    "    '-n', 'output_negatives.bed',\n",
    "    '-fl', 'splits/fold_0.json',\n",
    "    '-b', 'bias_model/models/k562_bias.h5',\n",
    "    '-o', 'chrombpnet_model/'\n",
    "]\n",
    "args = main()\n",
    "#and now we can simulate our args\n"
   ]
  },
  {
   "cell_type": "code",
   "execution_count": 2,
   "metadata": {},
   "outputs": [
    {
     "data": {
      "text/plain": [
       "{'test': ['chr11', 'chr12'],\n",
       " 'valid': ['chr8', 'chr10'],\n",
       " 'train': ['chr1',\n",
       "  'chr2',\n",
       "  'chr3',\n",
       "  'chr4',\n",
       "  'chr5',\n",
       "  'chr6',\n",
       "  'chr7',\n",
       "  'chr9',\n",
       "  'chr13',\n",
       "  'chr14',\n",
       "  'chr15',\n",
       "  'chr16',\n",
       "  'chr17',\n",
       "  'chr18',\n",
       "  'chr19',\n",
       "  'chr20',\n",
       "  'chr21',\n",
       "  'chr22',\n",
       "  'chrX',\n",
       "  'chrY']}"
      ]
     },
     "execution_count": 2,
     "metadata": {},
     "output_type": "execute_result"
    }
   ],
   "source": [
    "#now we modify args\n",
    "import json\n",
    "import os\n",
    "if args.file_prefix:\n",
    "    fpx = args.file_prefix+\"_\"\n",
    "else:\n",
    "    fpx = \"\"\n",
    "    \n",
    "# Shift bam and convert to bigwig\n",
    "# import chrombpnet.helpers.preprocessing.reads_to_bigwig as reads_to_bigwig\t\n",
    "args.output_prefix = os.path.join(args.output_dir,\"auxiliary/{}data\".format(fpx))\n",
    "args.plus_shift = None\n",
    "args.minus_shift = None\n",
    "args.bigwig = os.path.join(args.output_dir,\"auxiliary/{}data_unstranded.bw\".format(fpx))\n",
    "args.output_prefix = os.path.join(args.output_dir,\"evaluation/{}bw_shift_qc\".format(fpx))\n",
    "os.chdir('/data/leslie/sarthak/data/chrombpnet_test/')\n",
    "folds = json.load(open(args.chr_fold_path))\n",
    "assert(len(folds[\"valid\"]) > 0) # validation list of chromosomes is empty\n",
    "args.chr = folds[\"valid\"][0]\n",
    "args.pwm_width=24\n",
    "folds"
   ]
  },
  {
   "cell_type": "code",
   "execution_count": 3,
   "metadata": {},
   "outputs": [],
   "source": [
    "import copy\n",
    "import chrombpnet.training.models.chrombpnet_with_bias_model as chrombpnet_with_bias_model\n",
    "import chrombpnet.training.train as train\n",
    "args_copy = copy.deepcopy(args)\n",
    "if args_copy.architecture_from_file is None:\n",
    "    args_copy.architecture_from_file = \tchrombpnet_with_bias_model.__file__\n",
    "args_copy.peaks = os.path.join(args.output_dir,\"auxiliary/{}filtered.peaks.bed\".format(fpx))\n",
    "args_copy.nonpeaks = os.path.join(args.output_dir,\"auxiliary/{}filtered.nonpeaks.bed\".format(fpx))\n",
    "args_copy.output_prefix = os.path.join(args.output_dir,\"models/{}chrombpnet\".format(fpx))\n",
    "args_copy.params = os.path.join(args.output_dir,\"logs/{}chrombpnet_model_params.tsv\".format(fpx))"
   ]
  },
  {
   "cell_type": "code",
   "execution_count": 4,
   "metadata": {},
   "outputs": [
    {
     "data": {
      "text/plain": [
       "Namespace(cmd='pipeline', genome='hg38.fa', chrom_sizes='hg38.chrom.sizes', input_bam_file='merged.bam', input_fragment_file=None, input_tagalign_file=None, output_dir='chrombpnet_model/', data_type='ATAC', peaks='chrombpnet_model/auxiliary/filtered.peaks.bed', nonpeaks='chrombpnet_model/auxiliary/filtered.nonpeaks.bed', chr_fold_path='splits/fold_0.json', outlier_threshold=0.9999, ATAC_ref_path=None, DNASE_ref_path=None, num_samples=10000, inputlen=2114, outputlen=1000, seed=1234, epochs=50, early_stop=5, learning_rate=0.001, trackables=['logcount_predictions_loss', 'loss', 'logits_profile_predictions_loss', 'val_logcount_predictions_loss', 'val_loss', 'val_logits_profile_predictions_loss'], architecture_from_file='/data/leslie/sarthak/environments/chrombpnet/lib/python3.10/site-packages/chrombpnet/training/models/chrombpnet_with_bias_model.py', file_prefix=None, html_prefix='./', bsort=False, tmpdir=None, no_st=False, bias_model_path='bias_model/models/k562_bias.h5', negative_sampling_ratio=0.1, filters=512, n_dilation_layers=8, max_jitter=500, batch_size=64, output_prefix='chrombpnet_model/models/chrombpnet', plus_shift=None, minus_shift=None, bigwig='chrombpnet_model/auxiliary/data_unstranded.bw', chr='chr8', pwm_width=24, params='chrombpnet_model/logs/chrombpnet_model_params.tsv')"
      ]
     },
     "execution_count": 4,
     "metadata": {},
     "output_type": "execute_result"
    }
   ],
   "source": [
    "args_copy #this is the official one that has all of the things specified!"
   ]
  },
  {
   "cell_type": "code",
   "execution_count": 5,
   "metadata": {},
   "outputs": [],
   "source": [
    "args = args_copy"
   ]
  },
  {
   "cell_type": "code",
   "execution_count": 6,
   "metadata": {},
   "outputs": [
    {
     "name": "stdout",
     "output_type": "stream",
     "text": [
      "{'counts_loss_weight': '76.2', 'filters': '512', 'n_dil_layers': '8', 'bias_model_path': 'chrombpnet_model/models/bias_model_scaled.h5', 'inputlen': '2114', 'outputlen': '1000', 'max_jitter': '500', 'chr_fold_path': 'splits/fold_0.json', 'negative_sampling_ratio': '0.1'}\n"
     ]
    }
   ],
   "source": [
    "#but instead of directly calling train.main, we'll go through it to get to the source of our things!\n",
    "import numpy as np\n",
    "import chrombpnet.training.data_generators.initializers as initializers\n",
    "parameters = train.get_model_param_dict(args)\n",
    "print(parameters)\n",
    "np.random.seed(args.seed)\n",
    "\n",
    "# get model architecture to load\n",
    "# model, architecture_module=train.get_model(args, parameters)\n",
    "\n",
    "# initialize generators to load data\n",
    "# train_generator = initializers.initialize_generators(args, \"train\", parameters, return_coords=False) #gets the peaks and takes forever to get the sequences\n",
    "# valid_generator = initializers.initialize_generators(args, \"valid\", parameters, return_coords=False)"
   ]
  },
  {
   "cell_type": "code",
   "execution_count": 7,
   "metadata": {},
   "outputs": [
    {
     "ename": "",
     "evalue": "",
     "output_type": "error",
     "traceback": [
      "\u001b[1;31mThe Kernel crashed while executing code in the current cell or a previous cell. \n",
      "\u001b[1;31mPlease review the code in the cell(s) to identify a possible cause of the failure. \n",
      "\u001b[1;31mClick <a href='https://aka.ms/vscodeJupyterKernelCrash'>here</a> for more info. \n",
      "\u001b[1;31mView Jupyter <a href='command:jupyter.viewOutput'>log</a> for further details."
     ]
    },
    {
     "ename": "",
     "evalue": "",
     "output_type": "error",
     "traceback": [
      "\u001b[1;31mCanceled future for execute_request message before replies were done"
     ]
    },
    {
     "ename": "",
     "evalue": "",
     "output_type": "error",
     "traceback": [
      "\u001b[1;31mCanceled future for execute_request message before replies were done. \n",
      "\u001b[1;31mView Jupyter <a href='command:jupyter.viewOutput'>log</a> for further details."
     ]
    }
   ],
   "source": [
    "model, architecture_module=train.get_model(args, parameters) #this is killing it for some reason if we use the lt nodes..."
   ]
  },
  {
   "cell_type": "code",
   "execution_count": null,
   "metadata": {},
   "outputs": [
    {
     "ename": "NameError",
     "evalue": "name 'model' is not defined",
     "output_type": "error",
     "traceback": [
      "\u001b[0;31m---------------------------------------------------------------------------\u001b[0m",
      "\u001b[0;31mNameError\u001b[0m                                 Traceback (most recent call last)",
      "Cell \u001b[0;32mIn[7], line 1\u001b[0m\n\u001b[0;32m----> 1\u001b[0m \u001b[43mmodel\u001b[49m\u001b[38;5;241m.\u001b[39msummary()\n\u001b[1;32m      2\u001b[0m \u001b[38;5;66;03m#it seems model is what is considered the bias as they both take in sequence separately\u001b[39;00m\n",
      "\u001b[0;31mNameError\u001b[0m: name 'model' is not defined"
     ]
    }
   ],
   "source": [
    "model.summary()\n",
    "#it seems model is what is considered the bias as they both take in sequence separately\n",
    "\n",
    "'''\n",
    " Layer (type)                   Output Shape         Param #     Connected to                     \n",
    "==================================================================================================\n",
    " sequence (InputLayer)          [(None, 2114, 4)]    0           []                               \n",
    "                                                                                                  \n",
    " model_wo_bias (Functional)     [(None, 1000),       6377986     ['sequence[0][0]']               \n",
    "                                 (None, 1)]                                                       \n",
    "                                                                                                  \n",
    " model (Functional)             [(None, 1000),       217730      ['sequence[0][0]']               \n",
    "                                 (None, 1)]                                                       \n",
    "                                                                                                  \n",
    " concatenate (Concatenate)      (None, 2)            0           ['model_wo_bias[0][1]',          \n",
    "                                                                  'model[0][1]']                  \n",
    "                                                                                                  \n",
    " logits_profile_predictions (Ad  (None, 1000)        0           ['model_wo_bias[0][0]',          \n",
    " d)                                                               'model[0][0]']                  \n",
    "                                                                                                  \n",
    " logcount_predictions (Lambda)  (None, 1)            0           ['concatenate[0][0]']            \n",
    "                                                                                                  \n",
    "==================================================================================================\n",
    "Total params: 6,595,716\n",
    "Trainable params: 6,377,986\n",
    "Non-trainable params: 217,730\n",
    "__________________________________________________________________________________________________\n",
    "'''\n",
    "\n",
    "#model architecture can be found here\n",
    "#/data/leslie/sarthak/data/chrombpnet_test/model_architecture.png\n",
    "#/data/leslie/sarthak/chrombpnet/model_architecture.png"
   ]
  },
  {
   "cell_type": "code",
   "execution_count": null,
   "metadata": {},
   "outputs": [],
   "source": [
    "#the bias model itself can be found using\n",
    "'''\n",
    "submodel_layer = model.get_layer('model')\n",
    "submodel_layer.summary()\n",
    " Layer (type)                   Output Shape         Param #     Connected to                     \n",
    "==================================================================================================\n",
    " sequence (InputLayer)          [(None, 2114, 4)]    0           []                               \n",
    "                                                                                                  \n",
    " bpnet_1st_conv (Conv1D)        (None, 2094, 128)    10880       ['sequence[0][0]']               \n",
    "                                                                                                  \n",
    " bpnet_1conv (Conv1D)           (None, 2090, 128)    49280       ['bpnet_1st_conv[0][0]']         \n",
    "                                                                                                  \n",
    " bpnet_1crop (Cropping1D)       (None, 2090, 128)    0           ['bpnet_1st_conv[0][0]']         \n",
    "                                                                                                  \n",
    " add (Add)                      (None, 2090, 128)    0           ['bpnet_1conv[0][0]',            \n",
    "                                                                  'bpnet_1crop[0][0]']            \n",
    "                                                                                                  \n",
    " bpnet_2conv (Conv1D)           (None, 2082, 128)    49280       ['add[0][0]']                    \n",
    "                                                                                                  \n",
    " bpnet_2crop (Cropping1D)       (None, 2082, 128)    0           ['add[0][0]']                    \n",
    "                                                                                                  \n",
    " add_1 (Add)                    (None, 2082, 128)    0           ['bpnet_2conv[0][0]',            \n",
    "                                                                  'bpnet_2crop[0][0]']            \n",
    "                                                                                                  \n",
    " bpnet_3conv (Conv1D)           (None, 2066, 128)    49280       ['add_1[0][0]']                  \n",
    "                                                                                                  \n",
    " bpnet_3crop (Cropping1D)       (None, 2066, 128)    0           ['add_1[0][0]']                  \n",
    "                                                                                                  \n",
    " add_2 (Add)                    (None, 2066, 128)    0           ['bpnet_3conv[0][0]',            \n",
    "                                                                  'bpnet_3crop[0][0]']            \n",
    "                                                                                                  \n",
    " bpnet_4conv (Conv1D)           (None, 2034, 128)    49280       ['add_2[0][0]']                  \n",
    "                                                                                                  \n",
    " bpnet_4crop (Cropping1D)       (None, 2034, 128)    0           ['add_2[0][0]']                  \n",
    "                                                                                                  \n",
    " add_3 (Add)                    (None, 2034, 128)    0           ['bpnet_4conv[0][0]',            \n",
    "                                                                  'bpnet_4crop[0][0]']            \n",
    "                                                                                                  \n",
    " prof_out_precrop (Conv1D)      (None, 1960, 1)      9601        ['add_3[0][0]']                  \n",
    "                                                                                                  \n",
    " logits_profile_predictions_pre  (None, 1000, 1)     0           ['prof_out_precrop[0][0]']       \n",
    " flatten (Cropping1D)                                                                             \n",
    "                                                                                                  \n",
    " gap (GlobalAveragePooling1D)   (None, 128)          0           ['add_3[0][0]']                  \n",
    "                                                                                                  \n",
    " logits_profile_predictions (Fl  (None, 1000)        0           ['logits_profile_predictions_pref\n",
    " atten)                                                          latten[0][0]']                   \n",
    "                                                                                                  \n",
    " logcount_predictions (Dense)   (None, 1)            129         ['gap[0][0]']                    \n",
    "                                                                                                  \n",
    "==================================================================================================\n",
    "Total params: 217,730\n",
    "Trainable params: 0\n",
    "Non-trainable params: 217,730\n",
    "__________________________________________________________________________________________________\n",
    "'''\n",
    "\n",
    "#now running submodel_layer(input) gives us the output, which is indeed 2x1000 as the summaryshows\n",
    "#but now we know how to access sub parts of the model to like see what these convolutions are doing! It's very basic tho"
   ]
  },
  {
   "cell_type": "code",
   "execution_count": 38,
   "metadata": {},
   "outputs": [
    {
     "name": "stdout",
     "output_type": "stream",
     "text": [
      "loading peaks...\n",
      "got split:train for bed regions:(220311, 10)\n",
      "loading nonpeaks...\n",
      "got split:train for bed regions:(220221, 10)\n"
     ]
    }
   ],
   "source": [
    "#nowlet's manualy go through the data loading process!\n",
    "#for now let's set some basic variables\n",
    "import pandas as pd\n",
    "mode = \"train\"\n",
    "return_coords = False\n",
    "peak_regions=None\n",
    "nonpeak_regions=None\n",
    "NARROWPEAK_SCHEMA = [\"chr\", \"start\", \"end\", \"1\", \"2\", \"3\", \"4\", \"5\", \"6\", \"summit\"]\n",
    "splits_dict=json.load(open(args.chr_fold_path))\n",
    "\n",
    "if args.peaks.lower() != \"none\":\n",
    "    print(\"loading peaks...\")\n",
    "    peak_regions=pd.read_csv(args.peaks,header=None,sep='\\t',names=NARROWPEAK_SCHEMA)\n",
    "    peak_regions, chroms=initializers.get_bed_regions_for_fold_split(peak_regions, mode, splits_dict)\n",
    "\n",
    "if args.nonpeaks.lower() != \"none\":\n",
    "    print(\"loading nonpeaks...\")\n",
    "    nonpeak_regions=pd.read_csv(args.nonpeaks,header=None,sep='\\t',names=NARROWPEAK_SCHEMA)\n",
    "    nonpeak_regions, chroms=initializers.get_bed_regions_for_fold_split(nonpeak_regions, mode, splits_dict) \n",
    "\n",
    "#this is quite quick, again it's just the number of peaks and nonpeaks that are loaded"
   ]
  },
  {
   "cell_type": "code",
   "execution_count": 31,
   "metadata": {},
   "outputs": [
    {
     "data": {
      "text/html": [
       "<div>\n",
       "<style scoped>\n",
       "    .dataframe tbody tr th:only-of-type {\n",
       "        vertical-align: middle;\n",
       "    }\n",
       "\n",
       "    .dataframe tbody tr th {\n",
       "        vertical-align: top;\n",
       "    }\n",
       "\n",
       "    .dataframe thead th {\n",
       "        text-align: right;\n",
       "    }\n",
       "</style>\n",
       "<table border=\"1\" class=\"dataframe\">\n",
       "  <thead>\n",
       "    <tr style=\"text-align: right;\">\n",
       "      <th></th>\n",
       "      <th>chr</th>\n",
       "      <th>start</th>\n",
       "      <th>end</th>\n",
       "      <th>1</th>\n",
       "      <th>2</th>\n",
       "      <th>3</th>\n",
       "      <th>4</th>\n",
       "      <th>5</th>\n",
       "      <th>6</th>\n",
       "      <th>summit</th>\n",
       "    </tr>\n",
       "  </thead>\n",
       "  <tbody>\n",
       "    <tr>\n",
       "      <th>0</th>\n",
       "      <td>chr1</td>\n",
       "      <td>100027916</td>\n",
       "      <td>100029541</td>\n",
       "      <td>Peak_168774</td>\n",
       "      <td>375</td>\n",
       "      <td>.</td>\n",
       "      <td>3.46597</td>\n",
       "      <td>37.52287</td>\n",
       "      <td>35.56670</td>\n",
       "      <td>1291</td>\n",
       "    </tr>\n",
       "    <tr>\n",
       "      <th>1</th>\n",
       "      <td>chr1</td>\n",
       "      <td>100027916</td>\n",
       "      <td>100029541</td>\n",
       "      <td>Peak_212397</td>\n",
       "      <td>247</td>\n",
       "      <td>.</td>\n",
       "      <td>2.93255</td>\n",
       "      <td>24.75966</td>\n",
       "      <td>22.90134</td>\n",
       "      <td>89</td>\n",
       "    </tr>\n",
       "    <tr>\n",
       "      <th>2</th>\n",
       "      <td>chr1</td>\n",
       "      <td>100027916</td>\n",
       "      <td>100029541</td>\n",
       "      <td>Peak_231027</td>\n",
       "      <td>212</td>\n",
       "      <td>.</td>\n",
       "      <td>2.75187</td>\n",
       "      <td>21.27480</td>\n",
       "      <td>19.45153</td>\n",
       "      <td>688</td>\n",
       "    </tr>\n",
       "    <tr>\n",
       "      <th>3</th>\n",
       "      <td>chr1</td>\n",
       "      <td>100027916</td>\n",
       "      <td>100029541</td>\n",
       "      <td>Peak_240800</td>\n",
       "      <td>198</td>\n",
       "      <td>.</td>\n",
       "      <td>2.67162</td>\n",
       "      <td>19.80458</td>\n",
       "      <td>17.99839</td>\n",
       "      <td>479</td>\n",
       "    </tr>\n",
       "    <tr>\n",
       "      <th>4</th>\n",
       "      <td>chr1</td>\n",
       "      <td>100027916</td>\n",
       "      <td>100029541</td>\n",
       "      <td>Peak_64424</td>\n",
       "      <td>1000</td>\n",
       "      <td>.</td>\n",
       "      <td>8.38628</td>\n",
       "      <td>201.28123</td>\n",
       "      <td>198.87112</td>\n",
       "      <td>1078</td>\n",
       "    </tr>\n",
       "  </tbody>\n",
       "</table>\n",
       "</div>"
      ],
      "text/plain": [
       "    chr      start        end            1     2  3        4          5  \\\n",
       "0  chr1  100027916  100029541  Peak_168774   375  .  3.46597   37.52287   \n",
       "1  chr1  100027916  100029541  Peak_212397   247  .  2.93255   24.75966   \n",
       "2  chr1  100027916  100029541  Peak_231027   212  .  2.75187   21.27480   \n",
       "3  chr1  100027916  100029541  Peak_240800   198  .  2.67162   19.80458   \n",
       "4  chr1  100027916  100029541   Peak_64424  1000  .  8.38628  201.28123   \n",
       "\n",
       "           6  summit  \n",
       "0   35.56670    1291  \n",
       "1   22.90134      89  \n",
       "2   19.45153     688  \n",
       "3   17.99839     479  \n",
       "4  198.87112    1078  "
      ]
     },
     "execution_count": 31,
     "metadata": {},
     "output_type": "execute_result"
    }
   ],
   "source": [
    "peak_regions.head() #it's exactly what we expect, shows the start and end and the peak name"
   ]
  },
  {
   "cell_type": "code",
   "execution_count": 39,
   "metadata": {},
   "outputs": [],
   "source": [
    "inputlen, outputlen, \\\n",
    "nonpeak_regions, negative_sampling_ratio, \\\n",
    "max_jitter, add_revcomp, shuffle_at_epoch_start  =  initializers.fetch_data_and_model_params_based_on_mode(mode, args, parameters, nonpeak_regions, peak_regions)"
   ]
  },
  {
   "cell_type": "code",
   "execution_count": 34,
   "metadata": {},
   "outputs": [
    {
     "name": "stdout",
     "output_type": "stream",
     "text": [
      "inputlen: 2114\n",
      "outputlen: 1000\n",
      "negative_sampling_ratio: 0.1\n",
      "max_jitter: 500\n",
      "add_revcomp: True\n",
      "shuffle_at_epoch_start: True\n"
     ]
    }
   ],
   "source": [
    "print(f'inputlen: {inputlen}', f'outputlen: {outputlen}', f'negative_sampling_ratio: {negative_sampling_ratio}', f'max_jitter: {max_jitter}', f'add_revcomp: {add_revcomp}', f'shuffle_at_epoch_start: {shuffle_at_epoch_start}', sep='\\n')\n",
    "#all of this is quite obvious, so this negative sampling ratio means it samples 10% of the data to be negative\n",
    "#all of this is again quite obvious!\n"
   ]
  },
  {
   "cell_type": "code",
   "execution_count": 40,
   "metadata": {},
   "outputs": [],
   "source": [
    "#now the next part is input into the Batch generator, this is the annoying part that takes a while\n",
    "\n",
    "peak_regions=peak_regions\n",
    "nonpeak_regions=nonpeak_regions\n",
    "genome_fasta=args.genome\n",
    "batch_size=args.batch_size\n",
    "inputlen=inputlen                                \n",
    "outputlen=outputlen\n",
    "max_jitter=max_jitter\n",
    "negative_sampling_ratio=negative_sampling_ratio\n",
    "cts_bw_file=args.bigwig\n",
    "add_revcomp=add_revcomp\n",
    "return_coords=return_coords\n",
    "shuffle_at_epoch_start=shuffle_at_epoch_start"
   ]
  },
  {
   "cell_type": "code",
   "execution_count": 41,
   "metadata": {},
   "outputs": [],
   "source": [
    "from chrombpnet.training.utils import data_utils\n",
    "peak_seqs, peak_cts, peak_coords, nonpeak_seqs, nonpeak_cts, nonpeak_coords, = data_utils.load_data(peak_regions, nonpeak_regions, genome_fasta, cts_bw_file, inputlen, outputlen, max_jitter)\n",
    "#this is definitely the long part...\n",
    "#i mean it makes sense if it's trying to load all the sequences?\n",
    "#it's taking over 5 minutes? now 8. \n",
    "#it's very basic, just finds the start and stop and uses the summit from bigwig and fasta files\n",
    "#this is only for train though, so maybe it will be faster?\n",
    "#yes 20 minutes!\n"
   ]
  },
  {
   "cell_type": "code",
   "execution_count": 51,
   "metadata": {},
   "outputs": [
    {
     "name": "stdout",
     "output_type": "stream",
     "text": [
      "(220311, 3114, 4) [[[1 0 0 0]\n",
      "  [0 1 0 0]\n",
      "  [0 0 0 1]\n",
      "  ...\n",
      "  [1 0 0 0]\n",
      "  [1 0 0 0]\n",
      "  [0 0 1 0]]\n",
      "\n",
      " [[0 1 0 0]\n",
      "  [0 0 0 1]\n",
      "  [0 0 1 0]\n",
      "  ...\n",
      "  [1 0 0 0]\n",
      "  [0 0 1 0]\n",
      "  [0 1 0 0]]\n",
      "\n",
      " [[0 1 0 0]\n",
      "  [0 0 0 1]\n",
      "  [0 1 0 0]\n",
      "  ...\n",
      "  [1 0 0 0]\n",
      "  [0 0 0 1]\n",
      "  [0 0 1 0]]\n",
      "\n",
      " ...\n",
      "\n",
      " [[0 1 0 0]\n",
      "  [0 0 0 1]\n",
      "  [0 1 0 0]\n",
      "  ...\n",
      "  [0 1 0 0]\n",
      "  [0 1 0 0]\n",
      "  [1 0 0 0]]\n",
      "\n",
      " [[0 0 0 1]\n",
      "  [0 0 1 0]\n",
      "  [0 0 1 0]\n",
      "  ...\n",
      "  [0 0 1 0]\n",
      "  [0 0 1 0]\n",
      "  [0 0 0 1]]\n",
      "\n",
      " [[0 0 0 1]\n",
      "  [1 0 0 0]\n",
      "  [1 0 0 0]\n",
      "  ...\n",
      "  [0 0 0 1]\n",
      "  [0 0 0 1]\n",
      "  [1 0 0 0]]]\n"
     ]
    }
   ],
   "source": [
    "print(peak_seqs.shape, peak_seqs) #one hot encoded\n",
    "#wait why 3114? so that we can jitter up to 500 in either direction?\n",
    "#that's exactly it"
   ]
  },
  {
   "cell_type": "code",
   "execution_count": 45,
   "metadata": {},
   "outputs": [
    {
     "data": {
      "text/plain": [
       "(220311, 2000)"
      ]
     },
     "execution_count": 45,
     "metadata": {},
     "output_type": "execute_result"
    }
   ],
   "source": [
    "peak_cts.shape #the counts?"
   ]
  },
  {
   "cell_type": "code",
   "execution_count": 48,
   "metadata": {},
   "outputs": [
    {
     "name": "stdout",
     "output_type": "stream",
     "text": [
      "(220311, 4) [['chr1' '100029207' 'f' '1']\n",
      " ['chr1' '100028005' 'f' '1']\n",
      " ['chr1' '100028604' 'f' '1']\n",
      " ...\n",
      " ['chrY' '12395195' 'f' '1']\n",
      " ['chrY' '18992931' 'f' '1']\n",
      " ['chrY' '4030923' 'f' '1']]\n"
     ]
    }
   ],
   "source": [
    "print(peak_coords.shape, peak_coords) #idk what this 'f' and '1' are. f is just f, 1 is bool if it's a peak or not\n",
    "#of course in the peaks it should all be, in the nonopeaks none of it should be"
   ]
  },
  {
   "cell_type": "code",
   "execution_count": 50,
   "metadata": {},
   "outputs": [
    {
     "name": "stdout",
     "output_type": "stream",
     "text": [
      "(220221, 4) [['chr14' '91539057' 'f' '0']\n",
      " ['chr4' '35755057' 'f' '0']\n",
      " ['chr19' '21845057' 'f' '0']\n",
      " ...\n",
      " ['chr9' '121258057' 'f' '0']\n",
      " ['chr3' '177739057' 'f' '0']\n",
      " ['chr2' '219023057' 'f' '0']]\n"
     ]
    }
   ],
   "source": [
    "print(nonpeak_coords.shape, nonpeak_coords) #same as above\n",
    "#unsure why there's 100 less but there are"
   ]
  },
  {
   "cell_type": "code",
   "execution_count": 49,
   "metadata": {},
   "outputs": [],
   "source": [
    "#let's save all 6 numpy arrays to this folder\n",
    "folder = '/data/leslie/sarthak/data/chrombpnet_test/saved_data/'\n",
    "#now save them with numpy.save\n",
    "np.save(folder+'peak_seqs.npy', peak_seqs)\n",
    "np.save(folder+'peak_cts.npy', peak_cts)\n",
    "np.save(folder+'peak_coords.npy', peak_coords)\n",
    "np.save(folder+'nonpeak_seqs.npy', nonpeak_seqs)\n",
    "np.save(folder+'nonpeak_cts.npy', nonpeak_cts)\n",
    "np.save(folder+'nonpeak_coords.npy', nonpeak_coords)"
   ]
  },
  {
   "cell_type": "code",
   "execution_count": null,
   "metadata": {},
   "outputs": [],
   "source": [
    "#honestly up to here we can probably just use this exactly for hyena, none of this is exclusive to this, so we can easily use this in the dataset class\n",
    "#but we have to be smart with our data loader lol"
   ]
  },
  {
   "cell_type": "code",
   "execution_count": 53,
   "metadata": {},
   "outputs": [
    {
     "name": "stdout",
     "output_type": "stream",
     "text": [
      "(64, 2000)\n",
      "(64, 1)\n"
     ]
    }
   ],
   "source": [
    "#so final what is the data\n",
    "#so we start with sequence (in this case ohe)\n",
    "#then we predict the counts and profile, but i am unsure which one has the profile, probably cts?\n",
    "#is the counts just an average of the profile, or potentially the sum?\n",
    "batch_cts = peak_cts[:args.batch_size]\n",
    "print(batch_cts.shape)\n",
    "\n",
    "out = [batch_cts, np.log(1+batch_cts.sum(-1, keepdims=True))]\n",
    "print(out[1].shape) #ok, so we just do this sort of average per thing, it's one plus the sum of the counts, then add one because we log it"
   ]
  },
  {
   "cell_type": "code",
   "execution_count": 56,
   "metadata": {},
   "outputs": [
    {
     "data": {
      "text/plain": [
       "(array([ 7.,  9., 11.,  5.,  2.,  4.,  1.,  8., 10.,  7.]),\n",
       " array([6.16541785, 6.52113856, 6.87685927, 7.23257998, 7.58830068,\n",
       "        7.94402139, 8.2997421 , 8.65546281, 9.01118352, 9.36690422,\n",
       "        9.72262493]),\n",
       " <BarContainer object of 10 artists>)"
      ]
     },
     "execution_count": 56,
     "metadata": {},
     "output_type": "execute_result"
    },
    {
     "data": {
      "image/png": "[encoded data removed]",
      "text/plain": [
       "<Figure size 640x480 with 1 Axes>"
      ]
     },
     "metadata": {},
     "output_type": "display_data"
    }
   ],
   "source": [
    "#let's plot it\n",
    "import matplotlib.pyplot as plt\n",
    "plt.hist(out[1]) #this is bimodal, but what if we just do it not to the batch but the whole thing"
   ]
  },
  {
   "cell_type": "code",
   "execution_count": 57,
   "metadata": {},
   "outputs": [
    {
     "name": "stdout",
     "output_type": "stream",
     "text": [
      "(220311, 1) (220221, 1)\n"
     ]
    }
   ],
   "source": [
    "#do it to all the cts data for peaks and nonpeaks\n",
    "peak_cts_all = np.log(1+peak_cts.sum(-1, keepdims=True))\n",
    "nonpeak_cts_all = np.log(1+nonpeak_cts.sum(-1, keepdims=True))\n",
    "print(peak_cts_all.shape, nonpeak_cts_all.shape)"
   ]
  },
  {
   "cell_type": "code",
   "execution_count": 60,
   "metadata": {},
   "outputs": [
    {
     "data": {
      "text/plain": [
       "<matplotlib.legend.Legend at 0x7f46884f3eb0>"
      ]
     },
     "execution_count": 60,
     "metadata": {},
     "output_type": "execute_result"
    },
    {
     "data": {
      "image/png": "[encoded data removed]",
      "text/plain": [
       "<Figure size 640x480 with 1 Axes>"
      ]
     },
     "metadata": {},
     "output_type": "display_data"
    }
   ],
   "source": [
    "#let's do a hist with both and alpha of 0.5\n",
    "plt.hist(peak_cts_all, alpha=0.5, bins=20)\n",
    "plt.hist(nonpeak_cts_all, alpha=0.5, bins=20)\n",
    "#and a legend\n",
    "plt.legend(['peaks', 'nonpeaks'])\n",
    "#counts are much higher in peak regions, that's crazy!!!!"
   ]
  },
  {
   "cell_type": "code",
   "execution_count": 62,
   "metadata": {},
   "outputs": [
    {
     "name": "stdout",
     "output_type": "stream",
     "text": [
      "[[[1 0 0 0]\n",
      "  [0 1 0 0]\n",
      "  [1 0 0 0]\n",
      "  ...\n",
      "  [1 0 0 0]\n",
      "  [1 0 0 0]\n",
      "  [1 0 0 0]]\n",
      "\n",
      " [[0 1 0 0]\n",
      "  [0 1 0 0]\n",
      "  [1 0 0 0]\n",
      "  ...\n",
      "  [1 0 0 0]\n",
      "  [0 0 1 0]\n",
      "  [1 0 0 0]]\n",
      "\n",
      " [[0 1 0 0]\n",
      "  [0 0 0 1]\n",
      "  [0 1 0 0]\n",
      "  ...\n",
      "  [0 0 0 1]\n",
      "  [0 0 1 0]\n",
      "  [0 0 1 0]]\n",
      "\n",
      " ...\n",
      "\n",
      " [[1 0 0 0]\n",
      "  [0 1 0 0]\n",
      "  [0 1 0 0]\n",
      "  ...\n",
      "  [0 0 1 0]\n",
      "  [0 1 0 0]\n",
      "  [1 0 0 0]]\n",
      "\n",
      " [[1 0 0 0]\n",
      "  [0 0 0 1]\n",
      "  [0 0 1 0]\n",
      "  ...\n",
      "  [1 0 0 0]\n",
      "  [1 0 0 0]\n",
      "  [0 1 0 0]]\n",
      "\n",
      " [[0 1 0 0]\n",
      "  [1 0 0 0]\n",
      "  [1 0 0 0]\n",
      "  ...\n",
      "  [0 0 0 1]\n",
      "  [0 0 0 1]\n",
      "  [0 1 0 0]]]\n"
     ]
    }
   ],
   "source": [
    "#now owe will test the random jitter\n",
    "def take_per_row(A, indx, num_elem):\n",
    "    \"\"\"\n",
    "    Matrix A, indx is a vector for each row which specifies \n",
    "    slice beginning for that row. Each has width num_elem.\n",
    "    \"\"\"\n",
    "\n",
    "    all_indx = indx[:,None] + np.arange(num_elem)\n",
    "    return A[np.arange(all_indx.shape[0])[:,None], all_indx]\n",
    "\n",
    "\n",
    "def random_crop(seqs, labels, seq_crop_width, label_crop_width, coords):\n",
    "    \"\"\"\n",
    "    Takes sequences and corresponding counts labels. They should have the same\n",
    "    #examples. The widths would correspond to inputlen and outputlen respectively,\n",
    "    and any additional flanking width for jittering which should be the same\n",
    "    for seqs and labels. Each example is cropped starting at a random offset. \n",
    "\n",
    "    seq_crop_width - label_crop_width should be equal to seqs width - labels width,\n",
    "    essentially implying they should have the same flanking width.\n",
    "    \"\"\"\n",
    "\n",
    "    assert(seqs.shape[1]>=seq_crop_width)\n",
    "    assert(labels.shape[1]>=label_crop_width)\n",
    "    assert(seqs.shape[1] - seq_crop_width == labels.shape[1] - label_crop_width)\n",
    "\n",
    "    max_start = seqs.shape[1] - seq_crop_width # This should be the same for both input and output\n",
    "\n",
    "    starts = np.random.choice(range(max_start+1), size=seqs.shape[0], replace=True)\n",
    "\n",
    "    new_coords = coords.copy()\n",
    "    new_coords[:,1] = new_coords[:,1].astype(int) - (seqs.shape[1]//2) + starts\n",
    "\n",
    "    return take_per_row(seqs, starts, seq_crop_width), take_per_row(labels, starts, label_crop_width), new_coords\n",
    "\n",
    "out = random_crop(peak_seqs, peak_cts, 2114, 1000, peak_coords) #has to be this where the amount cropped is like this!\n",
    "print(out[0])\n",
    "#if these are the inputs, we see that it starts between 0 and 1000"
   ]
  },
  {
   "cell_type": "code",
   "execution_count": 63,
   "metadata": {},
   "outputs": [
    {
     "data": {
      "text/plain": [
       "(220311, 2114, 4)"
      ]
     },
     "execution_count": 63,
     "metadata": {},
     "output_type": "execute_result"
    }
   ],
   "source": [
    "out[0].shape #crops it to this size of 2114\n",
    "#so what I think is happening is it aligns the middle to the middle"
   ]
  },
  {
   "cell_type": "code",
   "execution_count": 68,
   "metadata": {},
   "outputs": [
    {
     "name": "stdout",
     "output_type": "stream",
     "text": [
      "(1, 3114, 1)\n",
      "[[[ 756]\n",
      "  [ 757]\n",
      "  [ 758]\n",
      "  ...\n",
      "  [2867]\n",
      "  [2868]\n",
      "  [2869]]]\n"
     ]
    }
   ],
   "source": [
    "#let's test it with a known input and output to see what happens\n",
    "data = np.array(range(0,3114))[None,:,None]\n",
    "print(data.shape)\n",
    "labels = np.array(range(0,2000))[None,:,None] #this is basically what we see!\n",
    "out = random_crop(data, labels, 2114, 1000, peak_coords)\n",
    "print(out[0])"
   ]
  },
  {
   "cell_type": "code",
   "execution_count": 69,
   "metadata": {},
   "outputs": [
    {
     "name": "stdout",
     "output_type": "stream",
     "text": [
      "[[[ 756]\n",
      "  [ 757]\n",
      "  [ 758]\n",
      "  [ 759]\n",
      "  [ 760]\n",
      "  [ 761]\n",
      "  [ 762]\n",
      "  [ 763]\n",
      "  [ 764]\n",
      "  [ 765]\n",
      "  [ 766]\n",
      "  [ 767]\n",
      "  [ 768]\n",
      "  [ 769]\n",
      "  [ 770]\n",
      "  [ 771]\n",
      "  [ 772]\n",
      "  [ 773]\n",
      "  [ 774]\n",
      "  [ 775]\n",
      "  [ 776]\n",
      "  [ 777]\n",
      "  [ 778]\n",
      "  [ 779]\n",
      "  [ 780]\n",
      "  [ 781]\n",
      "  [ 782]\n",
      "  [ 783]\n",
      "  [ 784]\n",
      "  [ 785]\n",
      "  [ 786]\n",
      "  [ 787]\n",
      "  [ 788]\n",
      "  [ 789]\n",
      "  [ 790]\n",
      "  [ 791]\n",
      "  [ 792]\n",
      "  [ 793]\n",
      "  [ 794]\n",
      "  [ 795]\n",
      "  [ 796]\n",
      "  [ 797]\n",
      "  [ 798]\n",
      "  [ 799]\n",
      "  [ 800]\n",
      "  [ 801]\n",
      "  [ 802]\n",
      "  [ 803]\n",
      "  [ 804]\n",
      "  [ 805]\n",
      "  [ 806]\n",
      "  [ 807]\n",
      "  [ 808]\n",
      "  [ 809]\n",
      "  [ 810]\n",
      "  [ 811]\n",
      "  [ 812]\n",
      "  [ 813]\n",
      "  [ 814]\n",
      "  [ 815]\n",
      "  [ 816]\n",
      "  [ 817]\n",
      "  [ 818]\n",
      "  [ 819]\n",
      "  [ 820]\n",
      "  [ 821]\n",
      "  [ 822]\n",
      "  [ 823]\n",
      "  [ 824]\n",
      "  [ 825]\n",
      "  [ 826]\n",
      "  [ 827]\n",
      "  [ 828]\n",
      "  [ 829]\n",
      "  [ 830]\n",
      "  [ 831]\n",
      "  [ 832]\n",
      "  [ 833]\n",
      "  [ 834]\n",
      "  [ 835]\n",
      "  [ 836]\n",
      "  [ 837]\n",
      "  [ 838]\n",
      "  [ 839]\n",
      "  [ 840]\n",
      "  [ 841]\n",
      "  [ 842]\n",
      "  [ 843]\n",
      "  [ 844]\n",
      "  [ 845]\n",
      "  [ 846]\n",
      "  [ 847]\n",
      "  [ 848]\n",
      "  [ 849]\n",
      "  [ 850]\n",
      "  [ 851]\n",
      "  [ 852]\n",
      "  [ 853]\n",
      "  [ 854]\n",
      "  [ 855]\n",
      "  [ 856]\n",
      "  [ 857]\n",
      "  [ 858]\n",
      "  [ 859]\n",
      "  [ 860]\n",
      "  [ 861]\n",
      "  [ 862]\n",
      "  [ 863]\n",
      "  [ 864]\n",
      "  [ 865]\n",
      "  [ 866]\n",
      "  [ 867]\n",
      "  [ 868]\n",
      "  [ 869]\n",
      "  [ 870]\n",
      "  [ 871]\n",
      "  [ 872]\n",
      "  [ 873]\n",
      "  [ 874]\n",
      "  [ 875]\n",
      "  [ 876]\n",
      "  [ 877]\n",
      "  [ 878]\n",
      "  [ 879]\n",
      "  [ 880]\n",
      "  [ 881]\n",
      "  [ 882]\n",
      "  [ 883]\n",
      "  [ 884]\n",
      "  [ 885]\n",
      "  [ 886]\n",
      "  [ 887]\n",
      "  [ 888]\n",
      "  [ 889]\n",
      "  [ 890]\n",
      "  [ 891]\n",
      "  [ 892]\n",
      "  [ 893]\n",
      "  [ 894]\n",
      "  [ 895]\n",
      "  [ 896]\n",
      "  [ 897]\n",
      "  [ 898]\n",
      "  [ 899]\n",
      "  [ 900]\n",
      "  [ 901]\n",
      "  [ 902]\n",
      "  [ 903]\n",
      "  [ 904]\n",
      "  [ 905]\n",
      "  [ 906]\n",
      "  [ 907]\n",
      "  [ 908]\n",
      "  [ 909]\n",
      "  [ 910]\n",
      "  [ 911]\n",
      "  [ 912]\n",
      "  [ 913]\n",
      "  [ 914]\n",
      "  [ 915]\n",
      "  [ 916]\n",
      "  [ 917]\n",
      "  [ 918]\n",
      "  [ 919]\n",
      "  [ 920]\n",
      "  [ 921]\n",
      "  [ 922]\n",
      "  [ 923]\n",
      "  [ 924]\n",
      "  [ 925]\n",
      "  [ 926]\n",
      "  [ 927]\n",
      "  [ 928]\n",
      "  [ 929]\n",
      "  [ 930]\n",
      "  [ 931]\n",
      "  [ 932]\n",
      "  [ 933]\n",
      "  [ 934]\n",
      "  [ 935]\n",
      "  [ 936]\n",
      "  [ 937]\n",
      "  [ 938]\n",
      "  [ 939]\n",
      "  [ 940]\n",
      "  [ 941]\n",
      "  [ 942]\n",
      "  [ 943]\n",
      "  [ 944]\n",
      "  [ 945]\n",
      "  [ 946]\n",
      "  [ 947]\n",
      "  [ 948]\n",
      "  [ 949]\n",
      "  [ 950]\n",
      "  [ 951]\n",
      "  [ 952]\n",
      "  [ 953]\n",
      "  [ 954]\n",
      "  [ 955]\n",
      "  [ 956]\n",
      "  [ 957]\n",
      "  [ 958]\n",
      "  [ 959]\n",
      "  [ 960]\n",
      "  [ 961]\n",
      "  [ 962]\n",
      "  [ 963]\n",
      "  [ 964]\n",
      "  [ 965]\n",
      "  [ 966]\n",
      "  [ 967]\n",
      "  [ 968]\n",
      "  [ 969]\n",
      "  [ 970]\n",
      "  [ 971]\n",
      "  [ 972]\n",
      "  [ 973]\n",
      "  [ 974]\n",
      "  [ 975]\n",
      "  [ 976]\n",
      "  [ 977]\n",
      "  [ 978]\n",
      "  [ 979]\n",
      "  [ 980]\n",
      "  [ 981]\n",
      "  [ 982]\n",
      "  [ 983]\n",
      "  [ 984]\n",
      "  [ 985]\n",
      "  [ 986]\n",
      "  [ 987]\n",
      "  [ 988]\n",
      "  [ 989]\n",
      "  [ 990]\n",
      "  [ 991]\n",
      "  [ 992]\n",
      "  [ 993]\n",
      "  [ 994]\n",
      "  [ 995]\n",
      "  [ 996]\n",
      "  [ 997]\n",
      "  [ 998]\n",
      "  [ 999]\n",
      "  [1000]\n",
      "  [1001]\n",
      "  [1002]\n",
      "  [1003]\n",
      "  [1004]\n",
      "  [1005]\n",
      "  [1006]\n",
      "  [1007]\n",
      "  [1008]\n",
      "  [1009]\n",
      "  [1010]\n",
      "  [1011]\n",
      "  [1012]\n",
      "  [1013]\n",
      "  [1014]\n",
      "  [1015]\n",
      "  [1016]\n",
      "  [1017]\n",
      "  [1018]\n",
      "  [1019]\n",
      "  [1020]\n",
      "  [1021]\n",
      "  [1022]\n",
      "  [1023]\n",
      "  [1024]\n",
      "  [1025]\n",
      "  [1026]\n",
      "  [1027]\n",
      "  [1028]\n",
      "  [1029]\n",
      "  [1030]\n",
      "  [1031]\n",
      "  [1032]\n",
      "  [1033]\n",
      "  [1034]\n",
      "  [1035]\n",
      "  [1036]\n",
      "  [1037]\n",
      "  [1038]\n",
      "  [1039]\n",
      "  [1040]\n",
      "  [1041]\n",
      "  [1042]\n",
      "  [1043]\n",
      "  [1044]\n",
      "  [1045]\n",
      "  [1046]\n",
      "  [1047]\n",
      "  [1048]\n",
      "  [1049]\n",
      "  [1050]\n",
      "  [1051]\n",
      "  [1052]\n",
      "  [1053]\n",
      "  [1054]\n",
      "  [1055]\n",
      "  [1056]\n",
      "  [1057]\n",
      "  [1058]\n",
      "  [1059]\n",
      "  [1060]\n",
      "  [1061]\n",
      "  [1062]\n",
      "  [1063]\n",
      "  [1064]\n",
      "  [1065]\n",
      "  [1066]\n",
      "  [1067]\n",
      "  [1068]\n",
      "  [1069]\n",
      "  [1070]\n",
      "  [1071]\n",
      "  [1072]\n",
      "  [1073]\n",
      "  [1074]\n",
      "  [1075]\n",
      "  [1076]\n",
      "  [1077]\n",
      "  [1078]\n",
      "  [1079]\n",
      "  [1080]\n",
      "  [1081]\n",
      "  [1082]\n",
      "  [1083]\n",
      "  [1084]\n",
      "  [1085]\n",
      "  [1086]\n",
      "  [1087]\n",
      "  [1088]\n",
      "  [1089]\n",
      "  [1090]\n",
      "  [1091]\n",
      "  [1092]\n",
      "  [1093]\n",
      "  [1094]\n",
      "  [1095]\n",
      "  [1096]\n",
      "  [1097]\n",
      "  [1098]\n",
      "  [1099]\n",
      "  [1100]\n",
      "  [1101]\n",
      "  [1102]\n",
      "  [1103]\n",
      "  [1104]\n",
      "  [1105]\n",
      "  [1106]\n",
      "  [1107]\n",
      "  [1108]\n",
      "  [1109]\n",
      "  [1110]\n",
      "  [1111]\n",
      "  [1112]\n",
      "  [1113]\n",
      "  [1114]\n",
      "  [1115]\n",
      "  [1116]\n",
      "  [1117]\n",
      "  [1118]\n",
      "  [1119]\n",
      "  [1120]\n",
      "  [1121]\n",
      "  [1122]\n",
      "  [1123]\n",
      "  [1124]\n",
      "  [1125]\n",
      "  [1126]\n",
      "  [1127]\n",
      "  [1128]\n",
      "  [1129]\n",
      "  [1130]\n",
      "  [1131]\n",
      "  [1132]\n",
      "  [1133]\n",
      "  [1134]\n",
      "  [1135]\n",
      "  [1136]\n",
      "  [1137]\n",
      "  [1138]\n",
      "  [1139]\n",
      "  [1140]\n",
      "  [1141]\n",
      "  [1142]\n",
      "  [1143]\n",
      "  [1144]\n",
      "  [1145]\n",
      "  [1146]\n",
      "  [1147]\n",
      "  [1148]\n",
      "  [1149]\n",
      "  [1150]\n",
      "  [1151]\n",
      "  [1152]\n",
      "  [1153]\n",
      "  [1154]\n",
      "  [1155]\n",
      "  [1156]\n",
      "  [1157]\n",
      "  [1158]\n",
      "  [1159]\n",
      "  [1160]\n",
      "  [1161]\n",
      "  [1162]\n",
      "  [1163]\n",
      "  [1164]\n",
      "  [1165]\n",
      "  [1166]\n",
      "  [1167]\n",
      "  [1168]\n",
      "  [1169]\n",
      "  [1170]\n",
      "  [1171]\n",
      "  [1172]\n",
      "  [1173]\n",
      "  [1174]\n",
      "  [1175]\n",
      "  [1176]\n",
      "  [1177]\n",
      "  [1178]\n",
      "  [1179]\n",
      "  [1180]\n",
      "  [1181]\n",
      "  [1182]\n",
      "  [1183]\n",
      "  [1184]\n",
      "  [1185]\n",
      "  [1186]\n",
      "  [1187]\n",
      "  [1188]\n",
      "  [1189]\n",
      "  [1190]\n",
      "  [1191]\n",
      "  [1192]\n",
      "  [1193]\n",
      "  [1194]\n",
      "  [1195]\n",
      "  [1196]\n",
      "  [1197]\n",
      "  [1198]\n",
      "  [1199]\n",
      "  [1200]\n",
      "  [1201]\n",
      "  [1202]\n",
      "  [1203]\n",
      "  [1204]\n",
      "  [1205]\n",
      "  [1206]\n",
      "  [1207]\n",
      "  [1208]\n",
      "  [1209]\n",
      "  [1210]\n",
      "  [1211]\n",
      "  [1212]\n",
      "  [1213]\n",
      "  [1214]\n",
      "  [1215]\n",
      "  [1216]\n",
      "  [1217]\n",
      "  [1218]\n",
      "  [1219]\n",
      "  [1220]\n",
      "  [1221]\n",
      "  [1222]\n",
      "  [1223]\n",
      "  [1224]\n",
      "  [1225]\n",
      "  [1226]\n",
      "  [1227]\n",
      "  [1228]\n",
      "  [1229]\n",
      "  [1230]\n",
      "  [1231]\n",
      "  [1232]\n",
      "  [1233]\n",
      "  [1234]\n",
      "  [1235]\n",
      "  [1236]\n",
      "  [1237]\n",
      "  [1238]\n",
      "  [1239]\n",
      "  [1240]\n",
      "  [1241]\n",
      "  [1242]\n",
      "  [1243]\n",
      "  [1244]\n",
      "  [1245]\n",
      "  [1246]\n",
      "  [1247]\n",
      "  [1248]\n",
      "  [1249]\n",
      "  [1250]\n",
      "  [1251]\n",
      "  [1252]\n",
      "  [1253]\n",
      "  [1254]\n",
      "  [1255]\n",
      "  [1256]\n",
      "  [1257]\n",
      "  [1258]\n",
      "  [1259]\n",
      "  [1260]\n",
      "  [1261]\n",
      "  [1262]\n",
      "  [1263]\n",
      "  [1264]\n",
      "  [1265]\n",
      "  [1266]\n",
      "  [1267]\n",
      "  [1268]\n",
      "  [1269]\n",
      "  [1270]\n",
      "  [1271]\n",
      "  [1272]\n",
      "  [1273]\n",
      "  [1274]\n",
      "  [1275]\n",
      "  [1276]\n",
      "  [1277]\n",
      "  [1278]\n",
      "  [1279]\n",
      "  [1280]\n",
      "  [1281]\n",
      "  [1282]\n",
      "  [1283]\n",
      "  [1284]\n",
      "  [1285]\n",
      "  [1286]\n",
      "  [1287]\n",
      "  [1288]\n",
      "  [1289]\n",
      "  [1290]\n",
      "  [1291]\n",
      "  [1292]\n",
      "  [1293]\n",
      "  [1294]\n",
      "  [1295]\n",
      "  [1296]\n",
      "  [1297]\n",
      "  [1298]\n",
      "  [1299]\n",
      "  [1300]\n",
      "  [1301]\n",
      "  [1302]\n",
      "  [1303]\n",
      "  [1304]\n",
      "  [1305]\n",
      "  [1306]\n",
      "  [1307]\n",
      "  [1308]\n",
      "  [1309]\n",
      "  [1310]\n",
      "  [1311]\n",
      "  [1312]\n",
      "  [1313]\n",
      "  [1314]\n",
      "  [1315]\n",
      "  [1316]\n",
      "  [1317]\n",
      "  [1318]\n",
      "  [1319]\n",
      "  [1320]\n",
      "  [1321]\n",
      "  [1322]\n",
      "  [1323]\n",
      "  [1324]\n",
      "  [1325]\n",
      "  [1326]\n",
      "  [1327]\n",
      "  [1328]\n",
      "  [1329]\n",
      "  [1330]\n",
      "  [1331]\n",
      "  [1332]\n",
      "  [1333]\n",
      "  [1334]\n",
      "  [1335]\n",
      "  [1336]\n",
      "  [1337]\n",
      "  [1338]\n",
      "  [1339]\n",
      "  [1340]\n",
      "  [1341]\n",
      "  [1342]\n",
      "  [1343]\n",
      "  [1344]\n",
      "  [1345]\n",
      "  [1346]\n",
      "  [1347]\n",
      "  [1348]\n",
      "  [1349]\n",
      "  [1350]\n",
      "  [1351]\n",
      "  [1352]\n",
      "  [1353]\n",
      "  [1354]\n",
      "  [1355]\n",
      "  [1356]\n",
      "  [1357]\n",
      "  [1358]\n",
      "  [1359]\n",
      "  [1360]\n",
      "  [1361]\n",
      "  [1362]\n",
      "  [1363]\n",
      "  [1364]\n",
      "  [1365]\n",
      "  [1366]\n",
      "  [1367]\n",
      "  [1368]\n",
      "  [1369]\n",
      "  [1370]\n",
      "  [1371]\n",
      "  [1372]\n",
      "  [1373]\n",
      "  [1374]\n",
      "  [1375]\n",
      "  [1376]\n",
      "  [1377]\n",
      "  [1378]\n",
      "  [1379]\n",
      "  [1380]\n",
      "  [1381]\n",
      "  [1382]\n",
      "  [1383]\n",
      "  [1384]\n",
      "  [1385]\n",
      "  [1386]\n",
      "  [1387]\n",
      "  [1388]\n",
      "  [1389]\n",
      "  [1390]\n",
      "  [1391]\n",
      "  [1392]\n",
      "  [1393]\n",
      "  [1394]\n",
      "  [1395]\n",
      "  [1396]\n",
      "  [1397]\n",
      "  [1398]\n",
      "  [1399]\n",
      "  [1400]\n",
      "  [1401]\n",
      "  [1402]\n",
      "  [1403]\n",
      "  [1404]\n",
      "  [1405]\n",
      "  [1406]\n",
      "  [1407]\n",
      "  [1408]\n",
      "  [1409]\n",
      "  [1410]\n",
      "  [1411]\n",
      "  [1412]\n",
      "  [1413]\n",
      "  [1414]\n",
      "  [1415]\n",
      "  [1416]\n",
      "  [1417]\n",
      "  [1418]\n",
      "  [1419]\n",
      "  [1420]\n",
      "  [1421]\n",
      "  [1422]\n",
      "  [1423]\n",
      "  [1424]\n",
      "  [1425]\n",
      "  [1426]\n",
      "  [1427]\n",
      "  [1428]\n",
      "  [1429]\n",
      "  [1430]\n",
      "  [1431]\n",
      "  [1432]\n",
      "  [1433]\n",
      "  [1434]\n",
      "  [1435]\n",
      "  [1436]\n",
      "  [1437]\n",
      "  [1438]\n",
      "  [1439]\n",
      "  [1440]\n",
      "  [1441]\n",
      "  [1442]\n",
      "  [1443]\n",
      "  [1444]\n",
      "  [1445]\n",
      "  [1446]\n",
      "  [1447]\n",
      "  [1448]\n",
      "  [1449]\n",
      "  [1450]\n",
      "  [1451]\n",
      "  [1452]\n",
      "  [1453]\n",
      "  [1454]\n",
      "  [1455]\n",
      "  [1456]\n",
      "  [1457]\n",
      "  [1458]\n",
      "  [1459]\n",
      "  [1460]\n",
      "  [1461]\n",
      "  [1462]\n",
      "  [1463]\n",
      "  [1464]\n",
      "  [1465]\n",
      "  [1466]\n",
      "  [1467]\n",
      "  [1468]\n",
      "  [1469]\n",
      "  [1470]\n",
      "  [1471]\n",
      "  [1472]\n",
      "  [1473]\n",
      "  [1474]\n",
      "  [1475]\n",
      "  [1476]\n",
      "  [1477]\n",
      "  [1478]\n",
      "  [1479]\n",
      "  [1480]\n",
      "  [1481]\n",
      "  [1482]\n",
      "  [1483]\n",
      "  [1484]\n",
      "  [1485]\n",
      "  [1486]\n",
      "  [1487]\n",
      "  [1488]\n",
      "  [1489]\n",
      "  [1490]\n",
      "  [1491]\n",
      "  [1492]\n",
      "  [1493]\n",
      "  [1494]\n",
      "  [1495]\n",
      "  [1496]\n",
      "  [1497]\n",
      "  [1498]\n",
      "  [1499]\n",
      "  [1500]\n",
      "  [1501]\n",
      "  [1502]\n",
      "  [1503]\n",
      "  [1504]\n",
      "  [1505]\n",
      "  [1506]\n",
      "  [1507]\n",
      "  [1508]\n",
      "  [1509]\n",
      "  [1510]\n",
      "  [1511]\n",
      "  [1512]\n",
      "  [1513]\n",
      "  [1514]\n",
      "  [1515]\n",
      "  [1516]\n",
      "  [1517]\n",
      "  [1518]\n",
      "  [1519]\n",
      "  [1520]\n",
      "  [1521]\n",
      "  [1522]\n",
      "  [1523]\n",
      "  [1524]\n",
      "  [1525]\n",
      "  [1526]\n",
      "  [1527]\n",
      "  [1528]\n",
      "  [1529]\n",
      "  [1530]\n",
      "  [1531]\n",
      "  [1532]\n",
      "  [1533]\n",
      "  [1534]\n",
      "  [1535]\n",
      "  [1536]\n",
      "  [1537]\n",
      "  [1538]\n",
      "  [1539]\n",
      "  [1540]\n",
      "  [1541]\n",
      "  [1542]\n",
      "  [1543]\n",
      "  [1544]\n",
      "  [1545]\n",
      "  [1546]\n",
      "  [1547]\n",
      "  [1548]\n",
      "  [1549]\n",
      "  [1550]\n",
      "  [1551]\n",
      "  [1552]\n",
      "  [1553]\n",
      "  [1554]\n",
      "  [1555]\n",
      "  [1556]\n",
      "  [1557]\n",
      "  [1558]\n",
      "  [1559]\n",
      "  [1560]\n",
      "  [1561]\n",
      "  [1562]\n",
      "  [1563]\n",
      "  [1564]\n",
      "  [1565]\n",
      "  [1566]\n",
      "  [1567]\n",
      "  [1568]\n",
      "  [1569]\n",
      "  [1570]\n",
      "  [1571]\n",
      "  [1572]\n",
      "  [1573]\n",
      "  [1574]\n",
      "  [1575]\n",
      "  [1576]\n",
      "  [1577]\n",
      "  [1578]\n",
      "  [1579]\n",
      "  [1580]\n",
      "  [1581]\n",
      "  [1582]\n",
      "  [1583]\n",
      "  [1584]\n",
      "  [1585]\n",
      "  [1586]\n",
      "  [1587]\n",
      "  [1588]\n",
      "  [1589]\n",
      "  [1590]\n",
      "  [1591]\n",
      "  [1592]\n",
      "  [1593]\n",
      "  [1594]\n",
      "  [1595]\n",
      "  [1596]\n",
      "  [1597]\n",
      "  [1598]\n",
      "  [1599]\n",
      "  [1600]\n",
      "  [1601]\n",
      "  [1602]\n",
      "  [1603]\n",
      "  [1604]\n",
      "  [1605]\n",
      "  [1606]\n",
      "  [1607]\n",
      "  [1608]\n",
      "  [1609]\n",
      "  [1610]\n",
      "  [1611]\n",
      "  [1612]\n",
      "  [1613]\n",
      "  [1614]\n",
      "  [1615]\n",
      "  [1616]\n",
      "  [1617]\n",
      "  [1618]\n",
      "  [1619]\n",
      "  [1620]\n",
      "  [1621]\n",
      "  [1622]\n",
      "  [1623]\n",
      "  [1624]\n",
      "  [1625]\n",
      "  [1626]\n",
      "  [1627]\n",
      "  [1628]\n",
      "  [1629]\n",
      "  [1630]\n",
      "  [1631]\n",
      "  [1632]\n",
      "  [1633]\n",
      "  [1634]\n",
      "  [1635]\n",
      "  [1636]\n",
      "  [1637]\n",
      "  [1638]\n",
      "  [1639]\n",
      "  [1640]\n",
      "  [1641]\n",
      "  [1642]\n",
      "  [1643]\n",
      "  [1644]\n",
      "  [1645]\n",
      "  [1646]\n",
      "  [1647]\n",
      "  [1648]\n",
      "  [1649]\n",
      "  [1650]\n",
      "  [1651]\n",
      "  [1652]\n",
      "  [1653]\n",
      "  [1654]\n",
      "  [1655]\n",
      "  [1656]\n",
      "  [1657]\n",
      "  [1658]\n",
      "  [1659]\n",
      "  [1660]\n",
      "  [1661]\n",
      "  [1662]\n",
      "  [1663]\n",
      "  [1664]\n",
      "  [1665]\n",
      "  [1666]\n",
      "  [1667]\n",
      "  [1668]\n",
      "  [1669]\n",
      "  [1670]\n",
      "  [1671]\n",
      "  [1672]\n",
      "  [1673]\n",
      "  [1674]\n",
      "  [1675]\n",
      "  [1676]\n",
      "  [1677]\n",
      "  [1678]\n",
      "  [1679]\n",
      "  [1680]\n",
      "  [1681]\n",
      "  [1682]\n",
      "  [1683]\n",
      "  [1684]\n",
      "  [1685]\n",
      "  [1686]\n",
      "  [1687]\n",
      "  [1688]\n",
      "  [1689]\n",
      "  [1690]\n",
      "  [1691]\n",
      "  [1692]\n",
      "  [1693]\n",
      "  [1694]\n",
      "  [1695]\n",
      "  [1696]\n",
      "  [1697]\n",
      "  [1698]\n",
      "  [1699]\n",
      "  [1700]\n",
      "  [1701]\n",
      "  [1702]\n",
      "  [1703]\n",
      "  [1704]\n",
      "  [1705]\n",
      "  [1706]\n",
      "  [1707]\n",
      "  [1708]\n",
      "  [1709]\n",
      "  [1710]\n",
      "  [1711]\n",
      "  [1712]\n",
      "  [1713]\n",
      "  [1714]\n",
      "  [1715]\n",
      "  [1716]\n",
      "  [1717]\n",
      "  [1718]\n",
      "  [1719]\n",
      "  [1720]\n",
      "  [1721]\n",
      "  [1722]\n",
      "  [1723]\n",
      "  [1724]\n",
      "  [1725]\n",
      "  [1726]\n",
      "  [1727]\n",
      "  [1728]\n",
      "  [1729]\n",
      "  [1730]\n",
      "  [1731]\n",
      "  [1732]\n",
      "  [1733]\n",
      "  [1734]\n",
      "  [1735]\n",
      "  [1736]\n",
      "  [1737]\n",
      "  [1738]\n",
      "  [1739]\n",
      "  [1740]\n",
      "  [1741]\n",
      "  [1742]\n",
      "  [1743]\n",
      "  [1744]\n",
      "  [1745]\n",
      "  [1746]\n",
      "  [1747]\n",
      "  [1748]\n",
      "  [1749]\n",
      "  [1750]\n",
      "  [1751]\n",
      "  [1752]\n",
      "  [1753]\n",
      "  [1754]\n",
      "  [1755]]]\n"
     ]
    }
   ],
   "source": [
    "print(out[1]) #yeah so it seems to be aligning them in this way which is not good, why would 1:2000 be same as 1:1000??"
   ]
  },
  {
   "cell_type": "code",
   "execution_count": 70,
   "metadata": {},
   "outputs": [
    {
     "data": {
      "text/plain": [
       "[<matplotlib.lines.Line2D at 0x7f46806ba2c0>]"
      ]
     },
     "execution_count": 70,
     "metadata": {},
     "output_type": "execute_result"
    },
    {
     "data": {
      "image/png": "[encoded data removed]",
      "text/plain": [
       "<Figure size 640x480 with 1 Axes>"
      ]
     },
     "metadata": {},
     "output_type": "display_data"
    }
   ],
   "source": [
    "#let's plot one of the cts profiles\n",
    "plt.plot(peak_cts[0])"
   ]
  },
  {
   "cell_type": "code",
   "execution_count": null,
   "metadata": {},
   "outputs": [],
   "source": [
    "#potentially an issue is that the centers are not aligned, let's see how they defined it\n",
    "#yeah... i don't get this at all??\n",
    "#let's see how off the centers are"
   ]
  },
  {
   "cell_type": "code",
   "execution_count": 15,
   "metadata": {},
   "outputs": [],
   "source": [
    "def take_per_row(A, indx, num_elem):\n",
    "    \"\"\"\n",
    "    Matrix A, indx is a vector for each row which specifies \n",
    "    slice beginning for that row. Each has width num_elem.\n",
    "    \"\"\"\n",
    "\n",
    "    all_indx = indx[:,None] + np.arange(num_elem)\n",
    "    return A[np.arange(all_indx.shape[0])[:,None], all_indx]\n",
    "\n",
    "\n",
    "def random_crop(seqs, labels, seq_crop_width, label_crop_width, coords):\n",
    "    \"\"\"\n",
    "    Takes sequences and corresponding counts labels. They should have the same\n",
    "    #examples. The widths would correspond to inputlen and outputlen respectively,\n",
    "    and any additional flanking width for jittering which should be the same\n",
    "    for seqs and labels. Each example is cropped starting at a random offset. \n",
    "\n",
    "    seq_crop_width - label_crop_width should be equal to seqs width - labels width,\n",
    "    essentially implying they should have the same flanking width.\n",
    "    \"\"\"\n",
    "\n",
    "    assert(seqs.shape[1]>=seq_crop_width)\n",
    "    assert(labels.shape[1]>=label_crop_width)\n",
    "    assert(seqs.shape[1] - seq_crop_width == labels.shape[1] - label_crop_width)\n",
    "\n",
    "    max_start = seqs.shape[1] - seq_crop_width # This should be the same for both input and output\n",
    "\n",
    "    starts = np.random.choice(range(max_start+1), size=seqs.shape[0], replace=True)\n",
    "\n",
    "    new_coords = coords.copy()\n",
    "    new_coords[:,1] = new_coords[:,1].astype(int) - (seqs.shape[1]//2) + starts\n",
    "\n",
    "    return take_per_row(seqs, starts, seq_crop_width), take_per_row(labels, starts, label_crop_width), new_coords\n"
   ]
  },
  {
   "cell_type": "code",
   "execution_count": 12,
   "metadata": {},
   "outputs": [
    {
     "name": "stdout",
     "output_type": "stream",
     "text": [
      "(10000, 3114, 1)\n",
      "(10000, 2000, 1)\n",
      "[[-7]\n",
      " [-6]\n",
      " [-5]\n",
      " [-4]\n",
      " [-3]\n",
      " [-2]\n",
      " [-1]\n",
      " [ 0]\n",
      " [ 1]\n",
      " [ 2]]\n",
      "[-1557] [1556] [0]\n"
     ]
    }
   ],
   "source": [
    "import numpy as np\n",
    "peak_seqs = np.array(range(-3114//2,3114//2))[None,:,None]\n",
    "peak_cts = np.array(range(-1000,1000))[None,:,None]\n",
    "#and now expand them so they repeat a bunch\n",
    "peak_seqs = np.repeat(peak_seqs, 10000, axis=0)\n",
    "peak_cts = np.repeat(peak_cts, 10000, axis=0)\n",
    "print(peak_seqs.shape)\n",
    "print(peak_cts.shape)\n",
    "print(peak_seqs[0,1550:1560])\n",
    "print(peak_seqs[0,0], peak_seqs[0,-1], peak_seqs[0,3114//2]) #that's the zero point or the center!!\n",
    "# out = random_crop(peak_seqs, peak_cts, 2114, 1000, peak_coords) #has to be this where the amount cropped is like this!"
   ]
  },
  {
   "cell_type": "code",
   "execution_count": 17,
   "metadata": {},
   "outputs": [
    {
     "name": "stdout",
     "output_type": "stream",
     "text": [
      "(array([[[ -648],\n",
      "        [ -647],\n",
      "        [ -646],\n",
      "        ...,\n",
      "        [ 1463],\n",
      "        [ 1464],\n",
      "        [ 1465]],\n",
      "\n",
      "       [[ -572],\n",
      "        [ -571],\n",
      "        [ -570],\n",
      "        ...,\n",
      "        [ 1539],\n",
      "        [ 1540],\n",
      "        [ 1541]],\n",
      "\n",
      "       [[-1073],\n",
      "        [-1072],\n",
      "        [-1071],\n",
      "        ...,\n",
      "        [ 1038],\n",
      "        [ 1039],\n",
      "        [ 1040]],\n",
      "\n",
      "       ...,\n",
      "\n",
      "       [[-1550],\n",
      "        [-1549],\n",
      "        [-1548],\n",
      "        ...,\n",
      "        [  561],\n",
      "        [  562],\n",
      "        [  563]],\n",
      "\n",
      "       [[ -849],\n",
      "        [ -848],\n",
      "        [ -847],\n",
      "        ...,\n",
      "        [ 1262],\n",
      "        [ 1263],\n",
      "        [ 1264]],\n",
      "\n",
      "       [[ -670],\n",
      "        [ -669],\n",
      "        [ -668],\n",
      "        ...,\n",
      "        [ 1441],\n",
      "        [ 1442],\n",
      "        [ 1443]]]), array([[[ -91],\n",
      "        [ -90],\n",
      "        [ -89],\n",
      "        ...,\n",
      "        [ 906],\n",
      "        [ 907],\n",
      "        [ 908]],\n",
      "\n",
      "       [[ -15],\n",
      "        [ -14],\n",
      "        [ -13],\n",
      "        ...,\n",
      "        [ 982],\n",
      "        [ 983],\n",
      "        [ 984]],\n",
      "\n",
      "       [[-516],\n",
      "        [-515],\n",
      "        [-514],\n",
      "        ...,\n",
      "        [ 481],\n",
      "        [ 482],\n",
      "        [ 483]],\n",
      "\n",
      "       ...,\n",
      "\n",
      "       [[-993],\n",
      "        [-992],\n",
      "        [-991],\n",
      "        ...,\n",
      "        [   4],\n",
      "        [   5],\n",
      "        [   6]],\n",
      "\n",
      "       [[-292],\n",
      "        [-291],\n",
      "        [-290],\n",
      "        ...,\n",
      "        [ 705],\n",
      "        [ 706],\n",
      "        [ 707]],\n",
      "\n",
      "       [[-113],\n",
      "        [-112],\n",
      "        [-111],\n",
      "        ...,\n",
      "        [ 884],\n",
      "        [ 885],\n",
      "        [ 886]]]), array([['chr1', '100028559', 'f', '1'],\n",
      "       ['chr1', '100027433', 'f', '1'],\n",
      "       ['chr1', '100027531', 'f', '1'],\n",
      "       ...,\n",
      "       ['chr1', '18137836', 'f', '1'],\n",
      "       ['chr1', '181412709', 'f', '1'],\n",
      "       ['chr1', '181424162', 'f', '1']], dtype='<U21'))\n"
     ]
    }
   ],
   "source": [
    "#now let's run it through and see how off the centers are!\n",
    "folder = '/data/leslie/sarthak/data/chrombpnet_test/saved_data/train/'\n",
    "peak_coords = np.load(folder+'peak_coords.npy')\n",
    "peak_coords = peak_coords[:10000]\n",
    "out = random_crop(peak_seqs, peak_cts, 2114, 1000, peak_coords)\n",
    "print(out)"
   ]
  },
  {
   "cell_type": "code",
   "execution_count": 19,
   "metadata": {},
   "outputs": [
    {
     "name": "stdout",
     "output_type": "stream",
     "text": [
      "(10000, 2114, 1)\n",
      "[[ 409]\n",
      " [ 485]\n",
      " [ -16]\n",
      " [ 235]\n",
      " [ 365]\n",
      " [ 347]\n",
      " [  -2]\n",
      " [-289]\n",
      " [ -42]\n",
      " [ 237]]\n"
     ]
    }
   ],
   "source": [
    "print(out[0].shape) #let's see some of the new center values\n",
    "print(out[0][:10,2114//2])"
   ]
  },
  {
   "cell_type": "code",
   "execution_count": 24,
   "metadata": {},
   "outputs": [
    {
     "data": {
      "text/plain": [
       "(array([49., 46., 45., 48., 34., 54., 51., 38., 51., 50., 53., 47., 54.,\n",
       "        67., 54., 49., 60., 46., 39., 53., 51., 46., 46., 63., 54., 51.,\n",
       "        58., 44., 54., 49., 37., 51., 36., 59., 53., 48., 31., 47., 46.,\n",
       "        62., 41., 47., 44., 49., 48., 44., 70., 59., 71., 36., 49., 46.,\n",
       "        43., 56., 50., 49., 46., 53., 52., 42., 60., 55., 44., 50., 48.,\n",
       "        51., 42., 35., 46., 59., 53., 57., 46., 56., 49., 49., 49., 42.,\n",
       "        48., 52., 41., 53., 41., 54., 53., 46., 41., 45., 45., 52., 44.,\n",
       "        68., 59., 51., 35., 40., 49., 56., 52., 54., 43., 57., 41., 47.,\n",
       "        52., 49., 53., 49., 62., 46., 50., 54., 56., 54., 48., 46., 48.,\n",
       "        54., 44., 55., 41., 48., 56., 55., 72., 46., 57., 61., 59., 60.,\n",
       "        64., 45., 51., 58., 53., 55., 50., 50., 59., 40., 41., 37., 52.,\n",
       "        44., 53., 53., 50., 47., 56., 66., 58., 49., 44., 53., 49., 43.,\n",
       "        59., 42., 41., 57., 51., 43., 48., 45., 52., 46., 60., 52., 51.,\n",
       "        44., 55., 56., 46., 58., 54., 49., 44., 62., 42., 51., 42., 48.,\n",
       "        42., 47., 38., 49., 50., 51., 55., 52., 47., 51., 51., 47., 46.,\n",
       "        46., 36., 58., 43., 71.]),\n",
       " array([-500., -495., -490., -485., -480., -475., -470., -465., -460.,\n",
       "        -455., -450., -445., -440., -435., -430., -425., -420., -415.,\n",
       "        -410., -405., -400., -395., -390., -385., -380., -375., -370.,\n",
       "        -365., -360., -355., -350., -345., -340., -335., -330., -325.,\n",
       "        -320., -315., -310., -305., -300., -295., -290., -285., -280.,\n",
       "        -275., -270., -265., -260., -255., -250., -245., -240., -235.,\n",
       "        -230., -225., -220., -215., -210., -205., -200., -195., -190.,\n",
       "        -185., -180., -175., -170., -165., -160., -155., -150., -145.,\n",
       "        -140., -135., -130., -125., -120., -115., -110., -105., -100.,\n",
       "         -95.,  -90.,  -85.,  -80.,  -75.,  -70.,  -65.,  -60.,  -55.,\n",
       "         -50.,  -45.,  -40.,  -35.,  -30.,  -25.,  -20.,  -15.,  -10.,\n",
       "          -5.,    0.,    5.,   10.,   15.,   20.,   25.,   30.,   35.,\n",
       "          40.,   45.,   50.,   55.,   60.,   65.,   70.,   75.,   80.,\n",
       "          85.,   90.,   95.,  100.,  105.,  110.,  115.,  120.,  125.,\n",
       "         130.,  135.,  140.,  145.,  150.,  155.,  160.,  165.,  170.,\n",
       "         175.,  180.,  185.,  190.,  195.,  200.,  205.,  210.,  215.,\n",
       "         220.,  225.,  230.,  235.,  240.,  245.,  250.,  255.,  260.,\n",
       "         265.,  270.,  275.,  280.,  285.,  290.,  295.,  300.,  305.,\n",
       "         310.,  315.,  320.,  325.,  330.,  335.,  340.,  345.,  350.,\n",
       "         355.,  360.,  365.,  370.,  375.,  380.,  385.,  390.,  395.,\n",
       "         400.,  405.,  410.,  415.,  420.,  425.,  430.,  435.,  440.,\n",
       "         445.,  450.,  455.,  460.,  465.,  470.,  475.,  480.,  485.,\n",
       "         490.,  495.,  500.]),\n",
       " <BarContainer object of 200 artists>)"
      ]
     },
     "execution_count": 24,
     "metadata": {},
     "output_type": "execute_result"
    },
    {
     "data": {
      "image/png": "[encoded data removed]",
      "text/plain": [
       "<Figure size 640x480 with 1 Axes>"
      ]
     },
     "metadata": {},
     "output_type": "display_data"
    }
   ],
   "source": [
    "import matplotlib.pyplot as plt\n",
    "#let's create a vector showing the values of the middle and plot it\n",
    "plt.hist(out[0][:,2114//2], bins=200) #yeah it's off by up to 500 as we expected"
   ]
  },
  {
   "cell_type": "code",
   "execution_count": 25,
   "metadata": {},
   "outputs": [
    {
     "data": {
      "text/plain": [
       "(array([49., 46., 45., 48., 34., 54., 51., 38., 51., 50., 53., 47., 54.,\n",
       "        67., 54., 49., 60., 46., 39., 53., 51., 46., 46., 63., 54., 51.,\n",
       "        58., 44., 54., 49., 37., 51., 36., 59., 53., 48., 31., 47., 46.,\n",
       "        62., 41., 47., 44., 49., 48., 44., 70., 59., 71., 36., 49., 46.,\n",
       "        43., 56., 50., 49., 46., 53., 52., 42., 60., 55., 44., 50., 48.,\n",
       "        51., 42., 35., 46., 59., 53., 57., 46., 56., 49., 49., 49., 42.,\n",
       "        48., 52., 41., 53., 41., 54., 53., 46., 41., 45., 45., 52., 44.,\n",
       "        68., 59., 51., 35., 40., 49., 56., 52., 54., 43., 57., 41., 47.,\n",
       "        52., 49., 53., 49., 62., 46., 50., 54., 56., 54., 48., 46., 48.,\n",
       "        54., 44., 55., 41., 48., 56., 55., 72., 46., 57., 61., 59., 60.,\n",
       "        64., 45., 51., 58., 53., 55., 50., 50., 59., 40., 41., 37., 52.,\n",
       "        44., 53., 53., 50., 47., 56., 66., 58., 49., 44., 53., 49., 43.,\n",
       "        59., 42., 41., 57., 51., 43., 48., 45., 52., 46., 60., 52., 51.,\n",
       "        44., 55., 56., 46., 58., 54., 49., 44., 62., 42., 51., 42., 48.,\n",
       "        42., 47., 38., 49., 50., 51., 55., 52., 47., 51., 51., 47., 46.,\n",
       "        46., 36., 58., 43., 71.]),\n",
       " array([-500., -495., -490., -485., -480., -475., -470., -465., -460.,\n",
       "        -455., -450., -445., -440., -435., -430., -425., -420., -415.,\n",
       "        -410., -405., -400., -395., -390., -385., -380., -375., -370.,\n",
       "        -365., -360., -355., -350., -345., -340., -335., -330., -325.,\n",
       "        -320., -315., -310., -305., -300., -295., -290., -285., -280.,\n",
       "        -275., -270., -265., -260., -255., -250., -245., -240., -235.,\n",
       "        -230., -225., -220., -215., -210., -205., -200., -195., -190.,\n",
       "        -185., -180., -175., -170., -165., -160., -155., -150., -145.,\n",
       "        -140., -135., -130., -125., -120., -115., -110., -105., -100.,\n",
       "         -95.,  -90.,  -85.,  -80.,  -75.,  -70.,  -65.,  -60.,  -55.,\n",
       "         -50.,  -45.,  -40.,  -35.,  -30.,  -25.,  -20.,  -15.,  -10.,\n",
       "          -5.,    0.,    5.,   10.,   15.,   20.,   25.,   30.,   35.,\n",
       "          40.,   45.,   50.,   55.,   60.,   65.,   70.,   75.,   80.,\n",
       "          85.,   90.,   95.,  100.,  105.,  110.,  115.,  120.,  125.,\n",
       "         130.,  135.,  140.,  145.,  150.,  155.,  160.,  165.,  170.,\n",
       "         175.,  180.,  185.,  190.,  195.,  200.,  205.,  210.,  215.,\n",
       "         220.,  225.,  230.,  235.,  240.,  245.,  250.,  255.,  260.,\n",
       "         265.,  270.,  275.,  280.,  285.,  290.,  295.,  300.,  305.,\n",
       "         310.,  315.,  320.,  325.,  330.,  335.,  340.,  345.,  350.,\n",
       "         355.,  360.,  365.,  370.,  375.,  380.,  385.,  390.,  395.,\n",
       "         400.,  405.,  410.,  415.,  420.,  425.,  430.,  435.,  440.,\n",
       "         445.,  450.,  455.,  460.,  465.,  470.,  475.,  480.,  485.,\n",
       "         490.,  495.,  500.]),\n",
       " <BarContainer object of 200 artists>)"
      ]
     },
     "execution_count": 25,
     "metadata": {},
     "output_type": "execute_result"
    },
    {
     "data": {
      "image/png": "[encoded data removed]",
      "text/plain": [
       "<Figure size 640x480 with 1 Axes>"
      ]
     },
     "metadata": {},
     "output_type": "display_data"
    }
   ],
   "source": [
    "#same for the cts\n",
    "plt.hist(out[1][:,1000//2], bins=200) #yeah it's off by up to 500 as we expected"
   ]
  },
  {
   "cell_type": "code",
   "execution_count": 26,
   "metadata": {},
   "outputs": [
    {
     "data": {
      "text/plain": [
       "<matplotlib.collections.PathCollection at 0x7fdd6001b790>"
      ]
     },
     "execution_count": 26,
     "metadata": {},
     "output_type": "execute_result"
    },
    {
     "data": {
      "image/png": "[encoded data removed]",
      "text/plain": [
       "<Figure size 640x480 with 1 Axes>"
      ]
     },
     "metadata": {},
     "output_type": "display_data"
    }
   ],
   "source": [
    "#now the real kicker, see how off they are\n",
    "plt.scatter(out[0][:,2114//2], out[1][:,1000//2]) #oh, it's actually close???"
   ]
  },
  {
   "cell_type": "code",
   "execution_count": 27,
   "metadata": {},
   "outputs": [
    {
     "data": {
      "text/plain": [
       "(array([    0.,     0.,     0.,     0.,     0.,     0.,     0.,     0.,\n",
       "            0.,     0.,     0.,     0.,     0.,     0.,     0.,     0.,\n",
       "            0.,     0.,     0.,     0.,     0.,     0.,     0.,     0.,\n",
       "            0.,     0.,     0.,     0.,     0.,     0.,     0.,     0.,\n",
       "            0.,     0.,     0.,     0.,     0.,     0.,     0.,     0.,\n",
       "            0.,     0.,     0.,     0.,     0.,     0.,     0.,     0.,\n",
       "            0.,     0.,     0.,     0.,     0.,     0.,     0.,     0.,\n",
       "            0.,     0.,     0.,     0.,     0.,     0.,     0.,     0.,\n",
       "            0.,     0.,     0.,     0.,     0.,     0.,     0.,     0.,\n",
       "            0.,     0.,     0.,     0.,     0.,     0.,     0.,     0.,\n",
       "            0.,     0.,     0.,     0.,     0.,     0.,     0.,     0.,\n",
       "            0.,     0.,     0.,     0.,     0.,     0.,     0.,     0.,\n",
       "            0.,     0.,     0.,     0., 10000.,     0.,     0.,     0.,\n",
       "            0.,     0.,     0.,     0.,     0.,     0.,     0.,     0.,\n",
       "            0.,     0.,     0.,     0.,     0.,     0.,     0.,     0.,\n",
       "            0.,     0.,     0.,     0.,     0.,     0.,     0.,     0.,\n",
       "            0.,     0.,     0.,     0.,     0.,     0.,     0.,     0.,\n",
       "            0.,     0.,     0.,     0.,     0.,     0.,     0.,     0.,\n",
       "            0.,     0.,     0.,     0.,     0.,     0.,     0.,     0.,\n",
       "            0.,     0.,     0.,     0.,     0.,     0.,     0.,     0.,\n",
       "            0.,     0.,     0.,     0.,     0.,     0.,     0.,     0.,\n",
       "            0.,     0.,     0.,     0.,     0.,     0.,     0.,     0.,\n",
       "            0.,     0.,     0.,     0.,     0.,     0.,     0.,     0.,\n",
       "            0.,     0.,     0.,     0.,     0.,     0.,     0.,     0.,\n",
       "            0.,     0.,     0.,     0.,     0.,     0.,     0.,     0.]),\n",
       " array([-0.5  , -0.495, -0.49 , -0.485, -0.48 , -0.475, -0.47 , -0.465,\n",
       "        -0.46 , -0.455, -0.45 , -0.445, -0.44 , -0.435, -0.43 , -0.425,\n",
       "        -0.42 , -0.415, -0.41 , -0.405, -0.4  , -0.395, -0.39 , -0.385,\n",
       "        -0.38 , -0.375, -0.37 , -0.365, -0.36 , -0.355, -0.35 , -0.345,\n",
       "        -0.34 , -0.335, -0.33 , -0.325, -0.32 , -0.315, -0.31 , -0.305,\n",
       "        -0.3  , -0.295, -0.29 , -0.285, -0.28 , -0.275, -0.27 , -0.265,\n",
       "        -0.26 , -0.255, -0.25 , -0.245, -0.24 , -0.235, -0.23 , -0.225,\n",
       "        -0.22 , -0.215, -0.21 , -0.205, -0.2  , -0.195, -0.19 , -0.185,\n",
       "        -0.18 , -0.175, -0.17 , -0.165, -0.16 , -0.155, -0.15 , -0.145,\n",
       "        -0.14 , -0.135, -0.13 , -0.125, -0.12 , -0.115, -0.11 , -0.105,\n",
       "        -0.1  , -0.095, -0.09 , -0.085, -0.08 , -0.075, -0.07 , -0.065,\n",
       "        -0.06 , -0.055, -0.05 , -0.045, -0.04 , -0.035, -0.03 , -0.025,\n",
       "        -0.02 , -0.015, -0.01 , -0.005,  0.   ,  0.005,  0.01 ,  0.015,\n",
       "         0.02 ,  0.025,  0.03 ,  0.035,  0.04 ,  0.045,  0.05 ,  0.055,\n",
       "         0.06 ,  0.065,  0.07 ,  0.075,  0.08 ,  0.085,  0.09 ,  0.095,\n",
       "         0.1  ,  0.105,  0.11 ,  0.115,  0.12 ,  0.125,  0.13 ,  0.135,\n",
       "         0.14 ,  0.145,  0.15 ,  0.155,  0.16 ,  0.165,  0.17 ,  0.175,\n",
       "         0.18 ,  0.185,  0.19 ,  0.195,  0.2  ,  0.205,  0.21 ,  0.215,\n",
       "         0.22 ,  0.225,  0.23 ,  0.235,  0.24 ,  0.245,  0.25 ,  0.255,\n",
       "         0.26 ,  0.265,  0.27 ,  0.275,  0.28 ,  0.285,  0.29 ,  0.295,\n",
       "         0.3  ,  0.305,  0.31 ,  0.315,  0.32 ,  0.325,  0.33 ,  0.335,\n",
       "         0.34 ,  0.345,  0.35 ,  0.355,  0.36 ,  0.365,  0.37 ,  0.375,\n",
       "         0.38 ,  0.385,  0.39 ,  0.395,  0.4  ,  0.405,  0.41 ,  0.415,\n",
       "         0.42 ,  0.425,  0.43 ,  0.435,  0.44 ,  0.445,  0.45 ,  0.455,\n",
       "         0.46 ,  0.465,  0.47 ,  0.475,  0.48 ,  0.485,  0.49 ,  0.495,\n",
       "         0.5  ]),\n",
       " <BarContainer object of 200 artists>)"
      ]
     },
     "execution_count": 27,
     "metadata": {},
     "output_type": "execute_result"
    },
    {
     "data": {
      "image/png": "[encoded data removed]",
      "text/plain": [
       "<Figure size 640x480 with 1 Axes>"
      ]
     },
     "metadata": {},
     "output_type": "display_data"
    }
   ],
   "source": [
    "plt.hist(out[0][:,2114//2]-out[1][:,1000//2], bins=200) #wait, this is exact??!?!??!!!"
   ]
  },
  {
   "cell_type": "code",
   "execution_count": 32,
   "metadata": {},
   "outputs": [
    {
     "name": "stdout",
     "output_type": "stream",
     "text": [
      "-648 1465 -91 908\n",
      "817 817\n"
     ]
    }
   ],
   "source": [
    "#let's look at one example\n",
    "seq = out[0][0]\n",
    "cts = out[1][0]\n",
    "print(seq.min(), seq.max(), cts.min(), cts.max())\n",
    "# print(cts)\n",
    "print(seq.min()+seq.max(), cts.min()+cts.max())\n",
    "\n",
    "#the centers are  perfectly aligned???"
   ]
  },
  {
   "cell_type": "code",
   "execution_count": 38,
   "metadata": {},
   "outputs": [
    {
     "name": "stdout",
     "output_type": "stream",
     "text": [
      "(10000, 3119, 1) (10000, 2005, 1)\n",
      "-1027 1086 -470 529\n",
      "59 59\n"
     ]
    }
   ],
   "source": [
    "#this doesn't make sense unless I fundamentally misunderstand what's going on, maybe the math randomly works out for these lengths?\n",
    "#Let's try having the input sequence be just a bit longer\n",
    "\n",
    "peak_seqs = np.array(range(-3124//2,3114//2))[None,:,None]\n",
    "peak_cts = np.array(range(-1005,1000))[None,:,None]\n",
    "peak_seqs = np.repeat(peak_seqs, 10000, axis=0)\n",
    "peak_cts = np.repeat(peak_cts, 10000, axis=0)\n",
    "print(peak_seqs.shape, peak_cts.shape)\n",
    "out = random_crop(peak_seqs, peak_cts, 2114, 1000, peak_coords)\n",
    "seq = out[0][0]\n",
    "cts = out[1][0]\n",
    "print(seq.min(), seq.max(), cts.min(), cts.max())\n",
    "# print(cts)\n",
    "print(seq.min()+seq.max(), cts.min()+cts.max()) #still it's aligned?!?"
   ]
  },
  {
   "cell_type": "code",
   "execution_count": 39,
   "metadata": {},
   "outputs": [
    {
     "name": "stdout",
     "output_type": "stream",
     "text": [
      "(10000, 2614, 1) (10000, 1500, 1)\n",
      "-983 1130 -426 573\n",
      "147 147\n"
     ]
    }
   ],
   "source": [
    "#final try where we have th einput be shorter\n",
    "peak_seqs = np.array(range(-2114//2,3114//2))[None,:,None]\n",
    "peak_cts = np.array(range(-500,1000))[None,:,None]\n",
    "peak_seqs = np.repeat(peak_seqs, 10000, axis=0)\n",
    "peak_cts = np.repeat(peak_cts, 10000, axis=0)\n",
    "print(peak_seqs.shape, peak_cts.shape)\n",
    "out = random_crop(peak_seqs, peak_cts, 2114, 1000, peak_coords)\n",
    "seq = out[0][0]\n",
    "cts = out[1][0]\n",
    "print(seq.min(), seq.max(), cts.min(), cts.max())\n",
    "# print(cts)\n",
    "print(seq.min()+seq.max(), cts.min()+cts.max()) #still it's aligned?!?\n",
    "#ok this somehow randomly works"
   ]
  },
  {
   "cell_type": "code",
   "execution_count": 42,
   "metadata": {},
   "outputs": [
    {
     "name": "stdout",
     "output_type": "stream",
     "text": [
      "(10000, 3114, 1) (10000, 2000, 1)\n",
      "383 2496 383 1382\n",
      "2113 999\n"
     ]
    }
   ],
   "source": [
    "#to verify we understand how this works\n",
    "peak_seqs = np.array(range(3114))[None,:,None]\n",
    "peak_cts = np.array(range(2000))[None,:,None]\n",
    "peak_seqs = np.repeat(peak_seqs, 10000, axis=0)\n",
    "peak_cts = np.repeat(peak_cts, 10000, axis=0)\n",
    "print(peak_seqs.shape, peak_cts.shape)\n",
    "out = random_crop(peak_seqs, peak_cts, 2114, 1000, peak_coords)\n",
    "seq = out[0][0]\n",
    "cts = out[1][0]\n",
    "print(seq.min(), seq.max(), cts.min(), cts.max()) #right they now start at the same index...\n",
    "print(seq.max()-seq.min(), cts.max()-cts.min()) #and they have the proper length while having the same starting index\n",
    "#but then how are they still centered the same?"
   ]
  },
  {
   "cell_type": "code",
   "execution_count": 44,
   "metadata": {},
   "outputs": [
    {
     "name": "stdout",
     "output_type": "stream",
     "text": [
      "(10000, 3000, 1) (10000, 2000, 1)\n",
      "-866 1133 -366 633\n",
      "267 267\n"
     ]
    }
   ],
   "source": [
    "#let's make this easier by doing 3000 and 2000\n",
    "\n",
    "peak_seqs = np.array(range(-1500,1500))[None,:,None]\n",
    "peak_cts = np.array(range(-1000,1000))[None,:,None]\n",
    "peak_seqs = np.repeat(peak_seqs, 10000, axis=0)\n",
    "peak_cts = np.repeat(peak_cts, 10000, axis=0)\n",
    "print(peak_seqs.shape, peak_cts.shape)\n",
    "out = random_crop(peak_seqs, peak_cts, 2000, 1000, peak_coords)\n",
    "seq = out[0][0]\n",
    "cts = out[1][0]\n",
    "print(seq.min(), seq.max(), cts.min(), cts.max()) #right they now start at the same index...\n",
    "print(seq.max()+seq.min(), cts.max()+cts.min()) #and they have the proper length while having the same starting index\n",
    "#but then how are they still centered the same?"
   ]
  },
  {
   "cell_type": "code",
   "execution_count": 46,
   "metadata": {},
   "outputs": [
    {
     "name": "stdout",
     "output_type": "stream",
     "text": [
      "-1500 499 -1000 -1\n",
      "-1001 -1001\n"
     ]
    }
   ],
   "source": [
    "#let's now manually sample and choose starting is 0\n",
    "seq = peak_seqs[0]\n",
    "cts = peak_cts[0]\n",
    "start = 0\n",
    "seq = seq[start:start+2000]\n",
    "cts = cts[start:start+1000]\n",
    "print(seq.min(), seq.max(), cts.min(), cts.max()) #right they now start at the same index...\n",
    "print(seq.max()+seq.min(), cts.max()+cts.min()) #and they have the proper length while having the same starting index...\n",
    "#ok they are somehow still centered the same\n",
    "\n",
    "#dude we're so stupid, obviously the center is the same, the center is the center + start offset, and if they were centered the same, they still will be\n",
    "#I'm so dumb, but we finally figured it out"
   ]
  },
  {
   "cell_type": "code",
   "execution_count": 47,
   "metadata": {},
   "outputs": [
    {
     "name": "stdout",
     "output_type": "stream",
     "text": [
      "(220311, 2000)\n"
     ]
    }
   ],
   "source": [
    "#finally let's just plot some more peaks\n",
    "peak_cts = np.load(folder+'peak_cts.npy')\n",
    "print(peak_cts.shape)"
   ]
  },
  {
   "cell_type": "code",
   "execution_count": 48,
   "metadata": {},
   "outputs": [
    {
     "data": {
      "text/plain": [
       "[<matplotlib.lines.Line2D at 0x7fdd5f910dc0>]"
      ]
     },
     "execution_count": 48,
     "metadata": {},
     "output_type": "execute_result"
    },
    {
     "data": {
      "image/png": "[encoded data removed]",
      "text/plain": [
       "<Figure size 640x480 with 1 Axes>"
      ]
     },
     "metadata": {},
     "output_type": "display_data"
    }
   ],
   "source": [
    "plt.plot(peak_cts[100])"
   ]
  },
  {
   "cell_type": "code",
   "execution_count": 49,
   "metadata": {},
   "outputs": [
    {
     "name": "stdout",
     "output_type": "stream",
     "text": [
      "(220311, 1)\n"
     ]
    }
   ],
   "source": [
    "#and when we do the log counts\n",
    "a = np.log(1+peak_cts.sum(-1, keepdims=True))\n",
    "print(a.shape)"
   ]
  },
  {
   "cell_type": "code",
   "execution_count": 52,
   "metadata": {},
   "outputs": [
    {
     "data": {
      "text/plain": [
       "(0.0, 50.0)"
      ]
     },
     "execution_count": 52,
     "metadata": {},
     "output_type": "execute_result"
    },
    {
     "data": {
      "image/png": "[encoded data removed]",
      "text/plain": [
       "<Figure size 640x480 with 1 Axes>"
      ]
     },
     "metadata": {},
     "output_type": "display_data"
    }
   ],
   "source": [
    "#let's just plot the distribution of the things\n",
    "temp = peak_cts.flatten()\n",
    "plt.hist(temp, bins=500)\n",
    "#set xlim to 50\n",
    "plt.xlim(0,50)"
   ]
  },
  {
   "cell_type": "code",
   "execution_count": 56,
   "metadata": {},
   "outputs": [
    {
     "name": "stdout",
     "output_type": "stream",
     "text": [
      "(220221, 1000)\n"
     ]
    },
    {
     "data": {
      "text/plain": [
       "(0.0, 50.0)"
      ]
     },
     "execution_count": 56,
     "metadata": {},
     "output_type": "execute_result"
    },
    {
     "data": {
      "image/png": "[encoded data removed]",
      "text/plain": [
       "<Figure size 640x480 with 1 Axes>"
      ]
     },
     "metadata": {},
     "output_type": "display_data"
    }
   ],
   "source": [
    "#and load the non peak cts regions\n",
    "nonpeak_cts = np.load(folder+'nonpeak_cts.npy')\n",
    "print(nonpeak_cts.shape)\n",
    "#and same plot\n",
    "temp = nonpeak_cts.flatten()\n",
    "plt.hist(temp, bins=200)\n",
    "#set xlim to 50\n",
    "plt.xlim(0,50)"
   ]
  },
  {
   "cell_type": "markdown",
   "metadata": {},
   "source": [
    "# finally produce some plots to show the differences between the models"
   ]
  },
  {
   "cell_type": "code",
   "execution_count": null,
   "metadata": {},
   "outputs": [],
   "source": [
    "import numpy as np\n"
   ]
  },
  {
   "cell_type": "code",
   "execution_count": 1,
   "metadata": {},
   "outputs": [
    {
     "name": "stdout",
     "output_type": "stream",
     "text": [
      "tensor([], size=(64, 1, 0), grad_fn=<SliceBackward0>)\n",
      "tensor([[nan],\n",
      "        [nan],\n",
      "        [nan],\n",
      "        [nan],\n",
      "        [nan],\n",
      "        [nan],\n",
      "        [nan],\n",
      "        [nan],\n",
      "        [nan],\n",
      "        [nan],\n",
      "        [nan],\n",
      "        [nan],\n",
      "        [nan],\n",
      "        [nan],\n",
      "        [nan],\n",
      "        [nan],\n",
      "        [nan],\n",
      "        [nan],\n",
      "        [nan],\n",
      "        [nan],\n",
      "        [nan],\n",
      "        [nan],\n",
      "        [nan],\n",
      "        [nan],\n",
      "        [nan],\n",
      "        [nan],\n",
      "        [nan],\n",
      "        [nan],\n",
      "        [nan],\n",
      "        [nan],\n",
      "        [nan],\n",
      "        [nan],\n",
      "        [nan],\n",
      "        [nan],\n",
      "        [nan],\n",
      "        [nan],\n",
      "        [nan],\n",
      "        [nan],\n",
      "        [nan],\n",
      "        [nan],\n",
      "        [nan],\n",
      "        [nan],\n",
      "        [nan],\n",
      "        [nan],\n",
      "        [nan],\n",
      "        [nan],\n",
      "        [nan],\n",
      "        [nan],\n",
      "        [nan],\n",
      "        [nan],\n",
      "        [nan],\n",
      "        [nan],\n",
      "        [nan],\n",
      "        [nan],\n",
      "        [nan],\n",
      "        [nan],\n",
      "        [nan],\n",
      "        [nan],\n",
      "        [nan],\n",
      "        [nan],\n",
      "        [nan],\n",
      "        [nan],\n",
      "        [nan],\n",
      "        [nan]], grad_fn=<ViewBackward0>)\n"
     ]
    }
   ],
   "source": [
    "#the first thing is we want to test the loss fucntion\n",
    "#we have one implementation but likely better to use the jacob schreiber version of all these things\n",
    "\n",
    "#the first thing we need to do is load in the dataloader and the bias model, we'll ignore the other hyena model right now\n",
    "\n",
    "#a simple script to test loading the bias model into pytorch\n",
    "#we have some scripts stored in bpnet lite\n",
    "import sys\n",
    "sys.path.append('/data/leslie/sarthak/chrombpnet')\n",
    "from bpnetlite.bpnet import BPNet\n",
    "\n",
    "#now let's try loading the model using the model method\n",
    "model = BPNet.from_chrombpnet('/data/leslie/sarthak/data/chrombpnet_test/bias_model_1000/models/k562_bias.h5')\n",
    "model\n",
    "#and this works, just had to comment out those 2 lines lol!\n",
    "#let's make a random size input\n",
    "import torch\n",
    "data = torch.rand(64,4,1000)*10\n",
    "out = model(data)\n",
    "print(out[0])\n",
    "print(out[1])"
   ]
  },
  {
   "cell_type": "code",
   "execution_count": 5,
   "metadata": {},
   "outputs": [
    {
     "name": "stdout",
     "output_type": "stream",
     "text": [
      "2\n",
      "torch.Size([64, 1, 1000])\n",
      "torch.Size([64, 1])\n",
      "(tensor([[[19.7039, -4.7962,  4.4985,  ..., 15.5877, 11.7697,  4.0288]],\n",
      "\n",
      "        [[-7.7838, 13.0285,  3.9821,  ...,  1.6649,  3.5642, 21.0292]],\n",
      "\n",
      "        [[ 6.6913, 10.7692,  6.2172,  ...,  3.5435, 15.5363,  6.0512]],\n",
      "\n",
      "        ...,\n",
      "\n",
      "        [[ 8.6928,  6.1781,  4.5914,  ..., 15.9411,  1.0150, 18.6154]],\n",
      "\n",
      "        [[12.5325,  9.9352,  2.0833,  ..., 13.8965, -5.6194, 10.1420]],\n",
      "\n",
      "        [[-5.5209,  5.7464, 18.2330,  ...,  6.0876, -3.0656, 15.3539]]],\n",
      "       grad_fn=<SliceBackward0>), tensor([[17.7543],\n",
      "        [17.9335],\n",
      "        [18.1855],\n",
      "        [17.9697],\n",
      "        [17.8437],\n",
      "        [18.1296],\n",
      "        [17.8504],\n",
      "        [18.2048],\n",
      "        [17.8278],\n",
      "        [17.7179],\n",
      "        [18.0405],\n",
      "        [18.4290],\n",
      "        [17.7662],\n",
      "        [17.9747],\n",
      "        [18.0283],\n",
      "        [18.0781],\n",
      "        [17.8011],\n",
      "        [17.9432],\n",
      "        [17.9275],\n",
      "        [17.7595],\n",
      "        [18.0535],\n",
      "        [17.7778],\n",
      "        [17.9551],\n",
      "        [17.9061],\n",
      "        [18.0629],\n",
      "        [17.8709],\n",
      "        [18.1040],\n",
      "        [18.0637],\n",
      "        [17.7700],\n",
      "        [17.9785],\n",
      "        [18.0163],\n",
      "        [18.0358],\n",
      "        [17.8880],\n",
      "        [17.8552],\n",
      "        [17.7739],\n",
      "        [18.0495],\n",
      "        [18.1161],\n",
      "        [18.0493],\n",
      "        [18.1267],\n",
      "        [18.1868],\n",
      "        [17.8978],\n",
      "        [17.7500],\n",
      "        [18.2133],\n",
      "        [17.9409],\n",
      "        [18.0287],\n",
      "        [18.2181],\n",
      "        [17.9251],\n",
      "        [17.7965],\n",
      "        [18.1360],\n",
      "        [18.0878],\n",
      "        [17.7681],\n",
      "        [18.2907],\n",
      "        [17.8024],\n",
      "        [18.0202],\n",
      "        [17.8363],\n",
      "        [17.6337],\n",
      "        [18.1743],\n",
      "        [18.0065],\n",
      "        [17.6644],\n",
      "        [18.1607],\n",
      "        [17.8442],\n",
      "        [18.0329],\n",
      "        [17.9044],\n",
      "        [17.8245]], grad_fn=<ViewBackward0>))\n"
     ]
    }
   ],
   "source": [
    "#the first thing is we want to test the loss fucntion\n",
    "#we have one implementation but likely better to use the jacob schreiber version of all these things\n",
    "\n",
    "#the first thing we need to do is load in the dataloader and the bias model, we'll ignore the other hyena model right now\n",
    "\n",
    "#a simple script to test loading the bias model into pytorch\n",
    "#we have some scripts stored in bpnet lite\n",
    "import sys\n",
    "sys.path.append('/data/leslie/sarthak/chrombpnet')\n",
    "from bpnetlite.bpnet import BPNet\n",
    "\n",
    "#now let's try loading the model using the model method\n",
    "model = BPNet.from_chrombpnet('/data/leslie/sarthak/data/chrombpnet_test/bias_model_1000/models/k562_bias.h5')\n",
    "model\n",
    "#and this works, just had to comment out those 2 lines lol!\n",
    "#let's make a random size input\n",
    "import torch\n",
    "data = torch.rand(64,4,2114)*10\n",
    "out = model(data)\n",
    "print(len(out))\n",
    "print(out[0].shape) #the profile\n",
    "print(out[1].shape) #the counts\n",
    "print(out)"
   ]
  },
  {
   "cell_type": "code",
   "execution_count": 20,
   "metadata": {},
   "outputs": [
    {
     "name": "stdout",
     "output_type": "stream",
     "text": [
      "(tensor([], size=(64, 1, 0), grad_fn=<SliceBackward0>), tensor([[nan],\n",
      "        [nan],\n",
      "        [nan],\n",
      "        [nan],\n",
      "        [nan],\n",
      "        [nan],\n",
      "        [nan],\n",
      "        [nan],\n",
      "        [nan],\n",
      "        [nan],\n",
      "        [nan],\n",
      "        [nan],\n",
      "        [nan],\n",
      "        [nan],\n",
      "        [nan],\n",
      "        [nan],\n",
      "        [nan],\n",
      "        [nan],\n",
      "        [nan],\n",
      "        [nan],\n",
      "        [nan],\n",
      "        [nan],\n",
      "        [nan],\n",
      "        [nan],\n",
      "        [nan],\n",
      "        [nan],\n",
      "        [nan],\n",
      "        [nan],\n",
      "        [nan],\n",
      "        [nan],\n",
      "        [nan],\n",
      "        [nan],\n",
      "        [nan],\n",
      "        [nan],\n",
      "        [nan],\n",
      "        [nan],\n",
      "        [nan],\n",
      "        [nan],\n",
      "        [nan],\n",
      "        [nan],\n",
      "        [nan],\n",
      "        [nan],\n",
      "        [nan],\n",
      "        [nan],\n",
      "        [nan],\n",
      "        [nan],\n",
      "        [nan],\n",
      "        [nan],\n",
      "        [nan],\n",
      "        [nan],\n",
      "        [nan],\n",
      "        [nan],\n",
      "        [nan],\n",
      "        [nan],\n",
      "        [nan],\n",
      "        [nan],\n",
      "        [nan],\n",
      "        [nan],\n",
      "        [nan],\n",
      "        [nan],\n",
      "        [nan],\n",
      "        [nan],\n",
      "        [nan],\n",
      "        [nan]], grad_fn=<ViewBackward0>))\n",
      "(tensor([[[ 23.0384,   3.7299,   6.8195,  ...,  30.0748, -12.7063,  10.2189]],\n",
      "\n",
      "        [[ 14.2811,   4.8587,  21.8772,  ...,  10.2926,  12.2810,  -1.3126]],\n",
      "\n",
      "        [[  4.0914,  11.0487,   7.2817,  ...,  19.0511, -21.5763,  24.7541]],\n",
      "\n",
      "        ...,\n",
      "\n",
      "        [[  3.7205,  10.0731,  10.4215,  ...,  -3.2505,  16.7596,   2.8604]],\n",
      "\n",
      "        [[  4.3126,  13.9233,  11.3007,  ...,  16.9648,   2.8474,  -4.6887]],\n",
      "\n",
      "        [[ -2.7794,  -5.7844,  18.3516,  ..., -15.0771,  -0.0594,  -5.3431]]],\n",
      "       grad_fn=<SliceBackward0>), tensor([[18.0954],\n",
      "        [17.8435],\n",
      "        [17.6796],\n",
      "        [17.8167],\n",
      "        [18.0993],\n",
      "        [17.8146],\n",
      "        [18.4460],\n",
      "        [17.7035],\n",
      "        [17.9302],\n",
      "        [18.2450],\n",
      "        [18.4466],\n",
      "        [18.4744],\n",
      "        [18.1344],\n",
      "        [18.1052],\n",
      "        [17.9474],\n",
      "        [17.8286],\n",
      "        [17.9318],\n",
      "        [17.9758],\n",
      "        [17.9856],\n",
      "        [17.8010],\n",
      "        [18.0467],\n",
      "        [17.5834],\n",
      "        [17.9947],\n",
      "        [18.1283],\n",
      "        [17.8864],\n",
      "        [17.9633],\n",
      "        [18.0593],\n",
      "        [17.8694],\n",
      "        [18.0394],\n",
      "        [18.2264],\n",
      "        [18.1689],\n",
      "        [18.2801],\n",
      "        [18.0314],\n",
      "        [17.9691],\n",
      "        [18.2869],\n",
      "        [18.2413],\n",
      "        [17.8648],\n",
      "        [17.7881],\n",
      "        [17.9039],\n",
      "        [17.7180],\n",
      "        [17.8285],\n",
      "        [17.8814],\n",
      "        [17.9967],\n",
      "        [17.9719],\n",
      "        [17.5322],\n",
      "        [18.1545],\n",
      "        [18.2801],\n",
      "        [17.6813],\n",
      "        [17.9847],\n",
      "        [17.9051],\n",
      "        [17.9168],\n",
      "        [17.8859],\n",
      "        [17.6423],\n",
      "        [17.6191],\n",
      "        [18.3199],\n",
      "        [18.3022],\n",
      "        [17.9601],\n",
      "        [18.0404],\n",
      "        [18.2544],\n",
      "        [17.7425],\n",
      "        [18.1232],\n",
      "        [18.0352],\n",
      "        [17.6904],\n",
      "        [18.3699]], grad_fn=<ViewBackward0>))\n"
     ]
    }
   ],
   "source": [
    "#oh i'm an idiot, the issue is that our input is not 1000 it's 1024 let's try that\n",
    "data = torch.rand(64,4,1024)*10\n",
    "out = model(data)\n",
    "print(out)\n",
    "#wait why does this have an issue now, it should be 800???\n",
    "#it seems that the way it's defined, it just goes from that fconv to the number of layers, there's nothing else\n",
    "data = torch.rand(64,4,1524)*10 #this does work...\n",
    "out = model(data)\n",
    "print(out)"
   ]
  },
  {
   "cell_type": "code",
   "execution_count": 1,
   "metadata": {},
   "outputs": [
    {
     "name": "stdout",
     "output_type": "stream",
     "text": [
      "Namespace(cmd='pipeline', genome='hg38.fa', chrom_sizes='hg38.chrom.sizes', input_bam_file='merged.bam', input_fragment_file=None, input_tagalign_file=None, output_dir='chrombpnet_model/', data_type='ATAC', peaks='peaks_no_blacklist.bed', nonpeaks='output_negatives.bed', chr_fold_path='splits/fold_0.json', outlier_threshold=0.9999, ATAC_ref_path=None, DNASE_ref_path=None, num_samples=10000, inputlen=1024, outputlen=800, seed=1234, epochs=50, early_stop=5, learning_rate=0.001, trackables=['logcount_predictions_loss', 'loss', 'logits_profile_predictions_loss', 'val_logcount_predictions_loss', 'val_loss', 'val_logits_profile_predictions_loss'], architecture_from_file=None, file_prefix=None, html_prefix='./', bsort=False, tmpdir=None, no_st=False, skip_preprocessing=False, save_data=None, bias_model_path='bias_model_1000/models/k562_bias.h5', negative_sampling_ratio=0.1, filters=512, n_dilation_layers=8, max_jitter=500, batch_size=64)\n",
      "False\n",
      "None\n"
     ]
    }
   ],
   "source": [
    "#hmmm, let's try to load the tensorflow model to compare...\n",
    "#if it can load the data, that's good!\n",
    "\n",
    "\n",
    "import argparse\n",
    "import sys\n",
    "sys.path.insert(0,'/data/leslie/sarthak/chrombpnet/')\n",
    "# print(sys.path)\n",
    "sys.path.append('/data/leslie/sarthak/chrombpnet/chrombpnet/')\n",
    "#path of test args\n",
    "#/data/leslie/sarthak/chrombpnet/chrombpnet/test_args.py\n",
    "from test_args import main\n",
    "sys.argv = [\n",
    "    'test_args.py', 'pipeline',\n",
    "    '-ibam', 'merged.bam',\n",
    "    '-d', 'ATAC',\n",
    "    '-g', 'hg38.fa',\n",
    "    '-c', 'hg38.chrom.sizes',\n",
    "    '-p', 'peaks_no_blacklist.bed',\n",
    "    '-n', 'output_negatives.bed',\n",
    "    '-fl', 'splits/fold_0.json',\n",
    "    '-b', 'bias_model_1000/models/k562_bias.h5',\n",
    "    '-o', 'chrombpnet_model/',\n",
    "    '-il', '1024',\n",
    "    '-ol', '800'\n",
    "]\n",
    "args = main()\n",
    "#and now we can simulate our args\n",
    "\n",
    "#now we modify args\n",
    "import json\n",
    "import os\n",
    "if args.file_prefix:\n",
    "    fpx = args.file_prefix+\"_\"\n",
    "else:\n",
    "    fpx = \"\"\n",
    "\n",
    "\n",
    "#does use the proper parser that includes the new stuff!\n",
    "#also need to specify il and ol for the model to figure it out\n",
    "#that way when we load the modle knows the sizes\n",
    "#also the crop is done to make it 800, has to do some level of cropping otherwise who knows"
   ]
  },
  {
   "cell_type": "code",
   "execution_count": 2,
   "metadata": {},
   "outputs": [
    {
     "name": "stdout",
     "output_type": "stream",
     "text": [
      "{'counts_loss_weight': '76.2', 'filters': '512', 'n_dil_layers': '8', 'bias_model_path': 'chrombpnet_model/models/bias_model_scaled.h5', 'inputlen': '2114', 'outputlen': '1000', 'max_jitter': '500', 'chr_fold_path': 'splits/fold_0.json', 'negative_sampling_ratio': '0.1'}\n"
     ]
    },
    {
     "name": "stderr",
     "output_type": "stream",
     "text": [
      "2024-06-12 17:52:16.399272: I tensorflow/core/platform/cpu_feature_guard.cc:151] This TensorFlow binary is optimized with oneAPI Deep Neural Network Library (oneDNN) to use the following CPU instructions in performance-critical operations:  SSE4.1 SSE4.2 AVX AVX2 AVX512F FMA\n",
      "To enable them in other operations, rebuild TensorFlow with the appropriate compiler flags.\n",
      "2024-06-12 17:52:19.303510: I tensorflow/core/common_runtime/gpu/gpu_device.cc:1525] Created device /job:localhost/replica:0/task:0/device:GPU:0 with 43483 MB memory:  -> device: 0, name: NVIDIA A40, pci bus id: 0000:17:00.0, compute capability: 8.6\n",
      "2024-06-12 17:52:19.305995: I tensorflow/core/common_runtime/gpu/gpu_device.cc:1525] Created device /job:localhost/replica:0/task:0/device:GPU:1 with 43483 MB memory:  -> device: 1, name: NVIDIA A40, pci bus id: 0000:65:00.0, compute capability: 8.6\n",
      "2024-06-12 17:52:19.308583: I tensorflow/core/common_runtime/gpu/gpu_device.cc:1525] Created device /job:localhost/replica:0/task:0/device:GPU:2 with 42978 MB memory:  -> device: 2, name: NVIDIA A40, pci bus id: 0000:ca:00.0, compute capability: 8.6\n",
      "2024-06-12 17:52:19.311078: I tensorflow/core/common_runtime/gpu/gpu_device.cc:1525] Created device /job:localhost/replica:0/task:0/device:GPU:3 with 42978 MB memory:  -> device: 3, name: NVIDIA A40, pci bus id: 0000:e3:00.0, compute capability: 8.6\n"
     ]
    },
    {
     "name": "stdout",
     "output_type": "stream",
     "text": [
      "got the model\n"
     ]
    }
   ],
   "source": [
    "# Shift bam and convert to bigwig\n",
    "# import chrombpnet.helpers.preprocessing.reads_to_bigwig as reads_to_bigwig\t\n",
    "args.output_prefix = os.path.join(args.output_dir,\"auxiliary/{}data\".format(fpx))\n",
    "args.plus_shift = None\n",
    "args.minus_shift = None\n",
    "args.bigwig = os.path.join(args.output_dir,\"auxiliary/{}data_unstranded.bw\".format(fpx))\n",
    "args.output_prefix = os.path.join(args.output_dir,\"evaluation/{}bw_shift_qc\".format(fpx))\n",
    "os.chdir('/data/leslie/sarthak/data/chrombpnet_test/')\n",
    "folds = json.load(open(args.chr_fold_path))\n",
    "assert(len(folds[\"valid\"]) > 0) # validation list of chromosomes is empty\n",
    "args.chr = folds[\"valid\"][0]\n",
    "args.pwm_width=24\n",
    "folds\n",
    "import copy\n",
    "import chrombpnet.training.models.chrombpnet_with_bias_model as chrombpnet_with_bias_model\n",
    "import chrombpnet.training.train as train\n",
    "args_copy = copy.deepcopy(args)\n",
    "if args_copy.architecture_from_file is None:\n",
    "    args_copy.architecture_from_file = \tchrombpnet_with_bias_model.__file__\n",
    "args_copy.peaks = os.path.join(args.output_dir,\"auxiliary/{}filtered.peaks.bed\".format(fpx))\n",
    "args_copy.nonpeaks = os.path.join(args.output_dir,\"auxiliary/{}filtered.nonpeaks.bed\".format(fpx))\n",
    "args_copy.output_prefix = os.path.join(args.output_dir,\"models/{}chrombpnet\".format(fpx))\n",
    "args_copy.params = os.path.join(args.output_dir,\"logs/{}chrombpnet_model_params.tsv\".format(fpx))\n",
    "args_copy #this is the official one that has all of the things specified!\n",
    "args = args_copy\n",
    "#but instead of directly calling train.main, we'll go through it to get to the source of our things!\n",
    "import numpy as np\n",
    "import chrombpnet.training.data_generators.initializers as initializers\n",
    "parameters = train.get_model_param_dict(args)\n",
    "print(parameters)\n",
    "np.random.seed(args.seed)\n",
    "\n",
    "# get model architecture to load\n",
    "# model, architecture_module=train.get_model(args, parameters)\n",
    "\n",
    "# initialize generators to load data\n",
    "# train_generator = initializers.initialize_generators(args, \"train\", parameters, return_coords=False) #gets the peaks and takes forever to get the sequences\n",
    "# valid_generator = initializers.initialize_generators(args, \"valid\", parameters, return_coords=False)\n",
    "model, architecture_module=train.get_model(args, parameters) #this is killing it for some reason if we use the lt nodes...\n",
    "#seems to be an issue if there are gpus but its inaccessible..."
   ]
  },
  {
   "cell_type": "code",
   "execution_count": 7,
   "metadata": {},
   "outputs": [
    {
     "name": "stdout",
     "output_type": "stream",
     "text": [
      "Model: \"model\"\n",
      "__________________________________________________________________________________________________\n",
      " Layer (type)                   Output Shape         Param #     Connected to                     \n",
      "==================================================================================================\n",
      " sequence (InputLayer)          [(None, 2114, 4)]    0           []                               \n",
      "                                                                                                  \n",
      " model_wo_bias (Functional)     [(None, 1000),       6377986     ['sequence[0][0]']               \n",
      "                                 (None, 1)]                                                       \n",
      "                                                                                                  \n",
      " model (Functional)             [(None, 1000),       217730      ['sequence[0][0]']               \n",
      "                                 (None, 1)]                                                       \n",
      "                                                                                                  \n",
      " concatenate (Concatenate)      (None, 2)            0           ['model_wo_bias[0][1]',          \n",
      "                                                                  'model[0][1]']                  \n",
      "                                                                                                  \n",
      " logits_profile_predictions (Ad  (None, 1000)        0           ['model_wo_bias[0][0]',          \n",
      " d)                                                               'model[0][0]']                  \n",
      "                                                                                                  \n",
      " logcount_predictions (Lambda)  (None, 1)            0           ['concatenate[0][0]']            \n",
      "                                                                                                  \n",
      "==================================================================================================\n",
      "Total params: 6,595,716\n",
      "Trainable params: 6,377,986\n",
      "Non-trainable params: 217,730\n",
      "__________________________________________________________________________________________________\n"
     ]
    }
   ],
   "source": [
    "model.summary()"
   ]
  },
  {
   "cell_type": "code",
   "execution_count": 9,
   "metadata": {},
   "outputs": [
    {
     "name": "stdout",
     "output_type": "stream",
     "text": [
      "<module '' from '/data/leslie/sarthak/chrombpnet/chrombpnet/training/models/chrombpnet_with_bias_model.py'>\n",
      "{'counts_loss_weight': '76.2', 'filters': '512', 'n_dil_layers': '8', 'bias_model_path': 'chrombpnet_model/models/bias_model_scaled.h5', 'inputlen': '2114', 'outputlen': '1000', 'max_jitter': '500', 'chr_fold_path': 'splits/fold_0.json', 'negative_sampling_ratio': '0.1'}\n"
     ]
    }
   ],
   "source": [
    "print(architecture_module) #this is just the module it comes from \n",
    "print(parameters)"
   ]
  },
  {
   "cell_type": "code",
   "execution_count": null,
   "metadata": {},
   "outputs": [],
   "source": [
    "#oh, so it's in the parameters that we define it...\n",
    "#where does args.params get defined?\n",
    "#it continues to load the full chrombpnet model notjust the bias model\n",
    "args.params = os.path.join(args.output_dir,\"logs/{}chrombpnet_model_params.tsv\".format(fpx))"
   ]
  },
  {
   "cell_type": "markdown",
   "metadata": {},
   "source": [
    "# loading only the bias model"
   ]
  },
  {
   "cell_type": "code",
   "execution_count": 11,
   "metadata": {},
   "outputs": [
    {
     "name": "stdout",
     "output_type": "stream",
     "text": [
      "{'counts_loss_weight': '5.0', 'filters': '128', 'n_dil_layers': '4', 'inputlen': '1024', 'outputlen': '800', 'max_jitter': '0', 'chr_fold_path': 'splits/fold_0.json', 'negative_sampling_ratio': '1.0'}\n",
      "params:\n",
      "filters:128\n",
      "n_dil_layers:4\n",
      "conv1_kernel_size:21\n",
      "profile_kernel_size:75\n",
      "counts_loss_weight:5.0\n",
      "got the model\n"
     ]
    }
   ],
   "source": [
    "#let's copy the code form the bias model stuff, but it's actually quite simple\n",
    "import chrombpnet.training.models.bpnet_model as bpnet_model\n",
    "args.params = '/data/leslie/sarthak/data/chrombpnet_test/bias_model_1000/logs/k562_bias_model_params.tsv'\n",
    "parameters = train.get_model_param_dict(args)\n",
    "print(parameters)\n",
    "np.random.seed(args.seed)\n",
    "args.architecture_from_file = bpnet_model.__file__\n",
    "model, architecture_module=train.get_model(args, parameters) #this is killing it for some reason if we use the lt nodes...\n"
   ]
  },
  {
   "cell_type": "code",
   "execution_count": 12,
   "metadata": {},
   "outputs": [
    {
     "name": "stdout",
     "output_type": "stream",
     "text": [
      "Model: \"model_1\"\n",
      "__________________________________________________________________________________________________\n",
      " Layer (type)                   Output Shape         Param #     Connected to                     \n",
      "==================================================================================================\n",
      " sequence (InputLayer)          [(None, 1024, 4)]    0           []                               \n",
      "                                                                                                  \n",
      " bpnet_1st_conv (Conv1D)        (None, 1004, 128)    10880       ['sequence[0][0]']               \n",
      "                                                                                                  \n",
      " bpnet_1conv (Conv1D)           (None, 1000, 128)    49280       ['bpnet_1st_conv[0][0]']         \n",
      "                                                                                                  \n",
      " bpnet_1crop (Cropping1D)       (None, 1000, 128)    0           ['bpnet_1st_conv[0][0]']         \n",
      "                                                                                                  \n",
      " add_8 (Add)                    (None, 1000, 128)    0           ['bpnet_1conv[0][0]',            \n",
      "                                                                  'bpnet_1crop[0][0]']            \n",
      "                                                                                                  \n",
      " bpnet_2conv (Conv1D)           (None, 992, 128)     49280       ['add_8[0][0]']                  \n",
      "                                                                                                  \n",
      " bpnet_2crop (Cropping1D)       (None, 992, 128)     0           ['add_8[0][0]']                  \n",
      "                                                                                                  \n",
      " add_9 (Add)                    (None, 992, 128)     0           ['bpnet_2conv[0][0]',            \n",
      "                                                                  'bpnet_2crop[0][0]']            \n",
      "                                                                                                  \n",
      " bpnet_3conv (Conv1D)           (None, 976, 128)     49280       ['add_9[0][0]']                  \n",
      "                                                                                                  \n",
      " bpnet_3crop (Cropping1D)       (None, 976, 128)     0           ['add_9[0][0]']                  \n",
      "                                                                                                  \n",
      " add_10 (Add)                   (None, 976, 128)     0           ['bpnet_3conv[0][0]',            \n",
      "                                                                  'bpnet_3crop[0][0]']            \n",
      "                                                                                                  \n",
      " bpnet_4conv (Conv1D)           (None, 944, 128)     49280       ['add_10[0][0]']                 \n",
      "                                                                                                  \n",
      " bpnet_4crop (Cropping1D)       (None, 944, 128)     0           ['add_10[0][0]']                 \n",
      "                                                                                                  \n",
      " add_11 (Add)                   (None, 944, 128)     0           ['bpnet_4conv[0][0]',            \n",
      "                                                                  'bpnet_4crop[0][0]']            \n",
      "                                                                                                  \n",
      " prof_out_precrop (Conv1D)      (None, 870, 1)       9601        ['add_11[0][0]']                 \n",
      "                                                                                                  \n",
      " logits_profile_predictions_pre  (None, 800, 1)      0           ['prof_out_precrop[0][0]']       \n",
      " flatten (Cropping1D)                                                                             \n",
      "                                                                                                  \n",
      " gap (GlobalAveragePooling1D)   (None, 128)          0           ['add_11[0][0]']                 \n",
      "                                                                                                  \n",
      " logits_profile_predictions (Fl  (None, 800)         0           ['logits_profile_predictions_pref\n",
      " atten)                                                          latten[0][0]']                   \n",
      "                                                                                                  \n",
      " logcount_predictions (Dense)   (None, 1)            129         ['gap[0][0]']                    \n",
      "                                                                                                  \n",
      "==================================================================================================\n",
      "Total params: 217,730\n",
      "Trainable params: 217,730\n",
      "Non-trainable params: 0\n",
      "__________________________________________________________________________________________________\n"
     ]
    }
   ],
   "source": [
    "model.summary()"
   ]
  },
  {
   "cell_type": "code",
   "execution_count": 14,
   "metadata": {},
   "outputs": [
    {
     "name": "stderr",
     "output_type": "stream",
     "text": [
      "2024-06-12 18:02:43.583001: I tensorflow/stream_executor/cuda/cuda_dnn.cc:368] Loaded cuDNN version 8907\n",
      "2024-06-12 18:02:46.381994: W tensorflow/stream_executor/gpu/asm_compiler.cc:111] *** WARNING *** You are using ptxas 11.0.221, which is older than 11.1. ptxas before 11.1 is known to miscompile XLA code, leading to incorrect results or invalid-address errors.\n",
      "\n",
      "You may not need to update to CUDA 11.1; cherry-picking the ptxas binary is often sufficient.\n",
      "2024-06-12 18:02:46.529984: W tensorflow/stream_executor/gpu/asm_compiler.cc:230] Falling back to the CUDA driver for PTX compilation; ptxas does not support CC 8.6\n",
      "2024-06-12 18:02:46.530039: W tensorflow/stream_executor/gpu/asm_compiler.cc:233] Used ptxas at /usr/local/cuda-11.0/bin/ptxas\n",
      "2024-06-12 18:02:46.582705: W tensorflow/stream_executor/gpu/redzone_allocator.cc:314] UNIMPLEMENTED: /usr/local/cuda-11.0/bin/ptxas ptxas too old. Falling back to the driver to compile.\n",
      "Relying on driver to perform ptx compilation. \n",
      "Modify $PATH to customize ptxas location.\n",
      "This message will be only logged once.\n"
     ]
    },
    {
     "name": "stdout",
     "output_type": "stream",
     "text": [
      "(64, 800)\n",
      "(64, 1)\n"
     ]
    }
   ],
   "source": [
    "#now let's see what the output is\n",
    "\n",
    "#one key idea is that we can easily load the full model or the bias model depending on the parameters that are used\n",
    "#this is where we need to consider that main path carefully and think about what we are loading\n",
    "#then look at load_pytorch to see how we can extract just the bias from that\n",
    "\n",
    "test_input = np.random.rand(64,4,1024).transpose(0,2,1)\n",
    "out = model(test_input)\n",
    "print(out[0].shape) #the profile\n",
    "print(out[1].shape) #the counts"
   ]
  },
  {
   "cell_type": "code",
   "execution_count": null,
   "metadata": {},
   "outputs": [],
   "source": [
    "#right this is perfect! takes in the proper input and output sizes!\n",
    "#I did indeed get it working, now we can give some test inputs to make sure it actually works!"
   ]
  },
  {
   "cell_type": "code",
   "execution_count": 15,
   "metadata": {},
   "outputs": [],
   "source": [
    "#let's produce some random data as a numpy array and save it\n",
    "import numpy as np\n",
    "random_data = np.random.rand(64,4,1024)\n",
    "np.save('/data/leslie/sarthak/data/chrombpnet_test/random_data.npy', random_data)"
   ]
  },
  {
   "cell_type": "code",
   "execution_count": 21,
   "metadata": {},
   "outputs": [
    {
     "name": "stdout",
     "output_type": "stream",
     "text": [
      "(64, 800)\n",
      "(64, 1)\n",
      "[<tf.Tensor: shape=(64, 800), dtype=float32, numpy=\n",
      "array([[0.8808726 , 0.8013918 , 0.65745014, ..., 1.2373575 , 0.75250757,\n",
      "        1.0490739 ],\n",
      "       [1.2703887 , 0.8373803 , 1.2273008 , ..., 1.0881332 , 1.0199597 ,\n",
      "        0.8520004 ],\n",
      "       [1.0319129 , 0.95693713, 0.77966154, ..., 1.0668644 , 0.607666  ,\n",
      "        0.95279163],\n",
      "       ...,\n",
      "       [0.935431  , 1.0768732 , 0.881536  , ..., 0.8223386 , 1.0135232 ,\n",
      "        0.87718135],\n",
      "       [0.76885194, 0.9540718 , 0.75318724, ..., 0.9133344 , 0.7917833 ,\n",
      "        1.0093429 ],\n",
      "       [0.8136067 , 0.9625963 , 0.942116  , ..., 0.6299992 , 0.7503516 ,\n",
      "        0.743367  ]], dtype=float32)>, <tf.Tensor: shape=(64, 1), dtype=float32, numpy=\n",
      "array([[ 2.38812715e-03],\n",
      "       [ 2.00940296e-03],\n",
      "       [ 1.63612366e-02],\n",
      "       [-2.85905972e-03],\n",
      "       [ 2.41808593e-05],\n",
      "       [ 6.11192733e-03],\n",
      "       [ 6.31880388e-03],\n",
      "       [ 7.07410276e-03],\n",
      "       [-6.48975372e-03],\n",
      "       [-9.37065855e-03],\n",
      "       [-9.54266638e-04],\n",
      "       [-2.74055451e-03],\n",
      "       [ 8.43286514e-04],\n",
      "       [ 5.11961803e-03],\n",
      "       [ 1.09008625e-02],\n",
      "       [-7.20217824e-04],\n",
      "       [-4.10863012e-03],\n",
      "       [-5.52257895e-03],\n",
      "       [ 3.30263376e-03],\n",
      "       [-4.85759974e-03],\n",
      "       [-5.83313406e-04],\n",
      "       [ 6.31231442e-03],\n",
      "       [ 2.37164646e-03],\n",
      "       [ 6.37028739e-03],\n",
      "       [ 1.10515356e-02],\n",
      "       [-2.19592825e-03],\n",
      "       [ 2.75716186e-04],\n",
      "       [-2.79692933e-03],\n",
      "       [ 4.69373539e-03],\n",
      "       [ 4.37402725e-03],\n",
      "       [ 1.02082714e-02],\n",
      "       [-1.10112131e-03],\n",
      "       [ 8.93617794e-03],\n",
      "       [ 1.17433779e-02],\n",
      "       [ 6.66676089e-03],\n",
      "       [ 2.96856090e-03],\n",
      "       [-3.21216136e-03],\n",
      "       [-8.25855881e-04],\n",
      "       [-3.32259014e-03],\n",
      "       [ 7.92136788e-03],\n",
      "       [ 7.35256821e-04],\n",
      "       [-5.75769693e-03],\n",
      "       [ 5.87140024e-03],\n",
      "       [ 9.72428545e-03],\n",
      "       [ 3.90744582e-03],\n",
      "       [ 2.88905576e-03],\n",
      "       [ 7.32234120e-03],\n",
      "       [ 9.07893479e-03],\n",
      "       [-1.99673697e-03],\n",
      "       [ 8.01768526e-03],\n",
      "       [-2.45682523e-03],\n",
      "       [-4.94503230e-03],\n",
      "       [ 6.54678419e-03],\n",
      "       [ 4.16281819e-03],\n",
      "       [ 4.58738580e-03],\n",
      "       [-4.40142676e-03],\n",
      "       [ 8.47366452e-03],\n",
      "       [ 3.89226899e-03],\n",
      "       [-4.33853269e-03],\n",
      "       [ 3.11525539e-03],\n",
      "       [ 2.13548541e-04],\n",
      "       [-7.72652030e-03],\n",
      "       [-2.14293227e-03],\n",
      "       [-2.90410593e-03]], dtype=float32)>]\n"
     ]
    }
   ],
   "source": [
    "#now put this through our tf model\n",
    "out = model(random_data.transpose(0,2,1))\n",
    "print(out[0].shape) #the profile\n",
    "print(out[1].shape) #the counts\n",
    "print(out)\n",
    "#and save it\n",
    "# np.save('/data/leslie/sarthak/data/chrombpnet_test/random_data_out_tf.npy', out)"
   ]
  },
  {
   "cell_type": "code",
   "execution_count": 1,
   "metadata": {},
   "outputs": [
    {
     "ename": "KeyboardInterrupt",
     "evalue": "",
     "output_type": "error",
     "traceback": [
      "\u001b[0;31m---------------------------------------------------------------------------\u001b[0m",
      "\u001b[0;31mKeyboardInterrupt\u001b[0m                         Traceback (most recent call last)",
      "Cell \u001b[0;32mIn[1], line 4\u001b[0m\n\u001b[1;32m      2\u001b[0m \u001b[38;5;28;01mimport\u001b[39;00m \u001b[38;5;21;01msys\u001b[39;00m\n\u001b[1;32m      3\u001b[0m sys\u001b[38;5;241m.\u001b[39mpath\u001b[38;5;241m.\u001b[39mappend(\u001b[38;5;124m'\u001b[39m\u001b[38;5;124m/data/leslie/sarthak/chrombpnet\u001b[39m\u001b[38;5;124m'\u001b[39m)\n\u001b[0;32m----> 4\u001b[0m \u001b[38;5;28;01mfrom\u001b[39;00m \u001b[38;5;21;01mbpnetlite\u001b[39;00m\u001b[38;5;21;01m.\u001b[39;00m\u001b[38;5;21;01mbpnet\u001b[39;00m \u001b[38;5;28;01mimport\u001b[39;00m BPNet\n\u001b[1;32m      6\u001b[0m \u001b[38;5;66;03m#now let's try loading the model using the model method\u001b[39;00m\n\u001b[1;32m      7\u001b[0m model_path \u001b[38;5;241m=\u001b[39m \u001b[38;5;124m'\u001b[39m\u001b[38;5;124m/data/leslie/sarthak/data/chrombpnet_test/bias_model_1000/models/k562_bias.h5\u001b[39m\u001b[38;5;124m'\u001b[39m\n",
      "File \u001b[0;32m/data/leslie/sarthak/chrombpnet/bpnetlite/bpnet.py:2\u001b[0m\n\u001b[1;32m      1\u001b[0m \u001b[38;5;66;03m#the bpnet model in pytorch, can convert from TF\u001b[39;00m\n\u001b[0;32m----> 2\u001b[0m \u001b[38;5;28;01mimport\u001b[39;00m \u001b[38;5;21;01mh5py\u001b[39;00m\n\u001b[1;32m      3\u001b[0m \u001b[38;5;28;01mimport\u001b[39;00m \u001b[38;5;21;01mtime\u001b[39;00m \n\u001b[1;32m      4\u001b[0m \u001b[38;5;28;01mimport\u001b[39;00m \u001b[38;5;21;01mnumpy\u001b[39;00m\n",
      "File \u001b[0;32m/data/leslie/sarthak/environments/hyena_backup2/lib/python3.11/site-packages/h5py/__init__.py:25\u001b[0m\n\u001b[1;32m     19\u001b[0m \u001b[38;5;66;03m# --- Library setup -----------------------------------------------------------\u001b[39;00m\n\u001b[1;32m     20\u001b[0m \n\u001b[1;32m     21\u001b[0m \u001b[38;5;66;03m# When importing from the root of the unpacked tarball or git checkout,\u001b[39;00m\n\u001b[1;32m     22\u001b[0m \u001b[38;5;66;03m# Python sees the \"h5py\" source directory and tries to load it, which fails.\u001b[39;00m\n\u001b[1;32m     23\u001b[0m \u001b[38;5;66;03m# We tried working around this by using \"package_dir\" but that breaks Cython.\u001b[39;00m\n\u001b[1;32m     24\u001b[0m \u001b[38;5;28;01mtry\u001b[39;00m:\n\u001b[0;32m---> 25\u001b[0m     \u001b[38;5;28;01mfrom\u001b[39;00m \u001b[38;5;21;01m.\u001b[39;00m \u001b[38;5;28;01mimport\u001b[39;00m _errors\n\u001b[1;32m     26\u001b[0m \u001b[38;5;28;01mexcept\u001b[39;00m \u001b[38;5;167;01mImportError\u001b[39;00m:\n\u001b[1;32m     27\u001b[0m     \u001b[38;5;28;01mimport\u001b[39;00m \u001b[38;5;21;01mos\u001b[39;00m\u001b[38;5;21;01m.\u001b[39;00m\u001b[38;5;21;01mpath\u001b[39;00m \u001b[38;5;28;01mas\u001b[39;00m \u001b[38;5;21;01m_op\u001b[39;00m\n",
      "File \u001b[0;32mh5py/_errors.pyx:1\u001b[0m, in \u001b[0;36minit h5py._errors\u001b[0;34m()\u001b[0m\n",
      "File \u001b[0;32m/data/leslie/sarthak/environments/hyena_backup2/lib/python3.11/site-packages/numpy/__init__.py:130\u001b[0m\n\u001b[1;32m    127\u001b[0m \u001b[38;5;28;01mfrom\u001b[39;00m \u001b[38;5;21;01m.\u001b[39;00m \u001b[38;5;28;01mimport\u001b[39;00m _distributor_init\n\u001b[1;32m    129\u001b[0m \u001b[38;5;28;01mtry\u001b[39;00m:\n\u001b[0;32m--> 130\u001b[0m     \u001b[38;5;28;01mfrom\u001b[39;00m \u001b[38;5;21;01mnumpy\u001b[39;00m\u001b[38;5;21;01m.\u001b[39;00m\u001b[38;5;21;01m__config__\u001b[39;00m \u001b[38;5;28;01mimport\u001b[39;00m show \u001b[38;5;28;01mas\u001b[39;00m show_config\n\u001b[1;32m    131\u001b[0m \u001b[38;5;28;01mexcept\u001b[39;00m \u001b[38;5;167;01mImportError\u001b[39;00m \u001b[38;5;28;01mas\u001b[39;00m e:\n\u001b[1;32m    132\u001b[0m     msg \u001b[38;5;241m=\u001b[39m \u001b[38;5;124m\"\"\"\u001b[39m\u001b[38;5;124mError importing numpy: you should not try to import numpy from\u001b[39m\n\u001b[1;32m    133\u001b[0m \u001b[38;5;124m    its source directory; please exit the numpy source tree, and relaunch\u001b[39m\n\u001b[1;32m    134\u001b[0m \u001b[38;5;124m    your python interpreter from there.\u001b[39m\u001b[38;5;124m\"\"\"\u001b[39m\n",
      "File \u001b[0;32m/data/leslie/sarthak/environments/hyena_backup2/lib/python3.11/site-packages/numpy/__config__.py:4\u001b[0m\n\u001b[1;32m      1\u001b[0m \u001b[38;5;66;03m# This file is generated by numpy's build process\u001b[39;00m\n\u001b[1;32m      2\u001b[0m \u001b[38;5;66;03m# It contains system_info results at the time of building this package.\u001b[39;00m\n\u001b[1;32m      3\u001b[0m \u001b[38;5;28;01mfrom\u001b[39;00m \u001b[38;5;21;01menum\u001b[39;00m \u001b[38;5;28;01mimport\u001b[39;00m Enum\n\u001b[0;32m----> 4\u001b[0m \u001b[38;5;28;01mfrom\u001b[39;00m \u001b[38;5;21;01mnumpy\u001b[39;00m\u001b[38;5;21;01m.\u001b[39;00m\u001b[38;5;21;01mcore\u001b[39;00m\u001b[38;5;21;01m.\u001b[39;00m\u001b[38;5;21;01m_multiarray_umath\u001b[39;00m \u001b[38;5;28;01mimport\u001b[39;00m (\n\u001b[1;32m      5\u001b[0m     __cpu_features__,\n\u001b[1;32m      6\u001b[0m     __cpu_baseline__,\n\u001b[1;32m      7\u001b[0m     __cpu_dispatch__,\n\u001b[1;32m      8\u001b[0m )\n\u001b[1;32m     10\u001b[0m __all__ \u001b[38;5;241m=\u001b[39m [\u001b[38;5;124m\"\u001b[39m\u001b[38;5;124mshow\u001b[39m\u001b[38;5;124m\"\u001b[39m]\n\u001b[1;32m     11\u001b[0m _built_with_meson \u001b[38;5;241m=\u001b[39m \u001b[38;5;28;01mTrue\u001b[39;00m\n",
      "File \u001b[0;32m/data/leslie/sarthak/environments/hyena_backup2/lib/python3.11/site-packages/numpy/core/__init__.py:72\u001b[0m\n\u001b[1;32m     66\u001b[0m     msg \u001b[38;5;241m=\u001b[39m (\u001b[38;5;124m\"\u001b[39m\u001b[38;5;124mSomething is wrong with the numpy installation. \u001b[39m\u001b[38;5;124m\"\u001b[39m\n\u001b[1;32m     67\u001b[0m         \u001b[38;5;124m\"\u001b[39m\u001b[38;5;124mWhile importing we detected an older version of \u001b[39m\u001b[38;5;124m\"\u001b[39m\n\u001b[1;32m     68\u001b[0m         \u001b[38;5;124m\"\u001b[39m\u001b[38;5;124mnumpy in \u001b[39m\u001b[38;5;132;01m{}\u001b[39;00m\u001b[38;5;124m. One method of fixing this is to repeatedly uninstall \u001b[39m\u001b[38;5;124m\"\u001b[39m\n\u001b[1;32m     69\u001b[0m         \u001b[38;5;124m\"\u001b[39m\u001b[38;5;124mnumpy until none is found, then reinstall this version.\u001b[39m\u001b[38;5;124m\"\u001b[39m)\n\u001b[1;32m     70\u001b[0m     \u001b[38;5;28;01mraise\u001b[39;00m \u001b[38;5;167;01mImportError\u001b[39;00m(msg\u001b[38;5;241m.\u001b[39mformat(path))\n\u001b[0;32m---> 72\u001b[0m \u001b[38;5;28;01mfrom\u001b[39;00m \u001b[38;5;21;01m.\u001b[39;00m \u001b[38;5;28;01mimport\u001b[39;00m numerictypes \u001b[38;5;28;01mas\u001b[39;00m nt\n\u001b[1;32m     73\u001b[0m multiarray\u001b[38;5;241m.\u001b[39mset_typeDict(nt\u001b[38;5;241m.\u001b[39msctypeDict)\n\u001b[1;32m     74\u001b[0m \u001b[38;5;28;01mfrom\u001b[39;00m \u001b[38;5;21;01m.\u001b[39;00m \u001b[38;5;28;01mimport\u001b[39;00m numeric\n",
      "File \u001b[0;32m/data/leslie/sarthak/environments/hyena_backup2/lib/python3.11/site-packages/numpy/core/numerictypes.py:105\u001b[0m\n\u001b[1;32m     99\u001b[0m \u001b[38;5;66;03m# we don't need all these imports, but we need to keep them for compatibility\u001b[39;00m\n\u001b[1;32m    100\u001b[0m \u001b[38;5;66;03m# for users using np.core.numerictypes.UPPER_TABLE\u001b[39;00m\n\u001b[1;32m    101\u001b[0m \u001b[38;5;28;01mfrom\u001b[39;00m \u001b[38;5;21;01m.\u001b[39;00m\u001b[38;5;21;01m_string_helpers\u001b[39;00m \u001b[38;5;28;01mimport\u001b[39;00m (\n\u001b[1;32m    102\u001b[0m     english_lower, english_upper, english_capitalize, LOWER_TABLE, UPPER_TABLE\n\u001b[1;32m    103\u001b[0m )\n\u001b[0;32m--> 105\u001b[0m \u001b[38;5;28;01mfrom\u001b[39;00m \u001b[38;5;21;01m.\u001b[39;00m\u001b[38;5;21;01m_type_aliases\u001b[39;00m \u001b[38;5;28;01mimport\u001b[39;00m (\n\u001b[1;32m    106\u001b[0m     sctypeDict,\n\u001b[1;32m    107\u001b[0m     allTypes,\n\u001b[1;32m    108\u001b[0m     bitname,\n\u001b[1;32m    109\u001b[0m     sctypes,\n\u001b[1;32m    110\u001b[0m     _concrete_types,\n\u001b[1;32m    111\u001b[0m     _concrete_typeinfo,\n\u001b[1;32m    112\u001b[0m     _bits_of,\n\u001b[1;32m    113\u001b[0m )\n\u001b[1;32m    114\u001b[0m \u001b[38;5;28;01mfrom\u001b[39;00m \u001b[38;5;21;01m.\u001b[39;00m\u001b[38;5;21;01m_dtype\u001b[39;00m \u001b[38;5;28;01mimport\u001b[39;00m _kind_name\n\u001b[1;32m    116\u001b[0m \u001b[38;5;66;03m# we don't export these for import *, but we do want them accessible\u001b[39;00m\n\u001b[1;32m    117\u001b[0m \u001b[38;5;66;03m# as numerictypes.bool, etc.\u001b[39;00m\n",
      "File \u001b[0;32m/data/leslie/sarthak/environments/hyena_backup2/lib/python3.11/site-packages/numpy/core/_type_aliases.py:20\u001b[0m\n\u001b[1;32m      1\u001b[0m \u001b[38;5;124;03m\"\"\"\u001b[39;00m\n\u001b[1;32m      2\u001b[0m \u001b[38;5;124;03mDue to compatibility, numpy has a very large number of different naming\u001b[39;00m\n\u001b[1;32m      3\u001b[0m \u001b[38;5;124;03mconventions for the scalar types (those subclassing from `numpy.generic`).\u001b[39;00m\n\u001b[0;32m   (...)\u001b[0m\n\u001b[1;32m     17\u001b[0m \n\u001b[1;32m     18\u001b[0m \u001b[38;5;124;03m\"\"\"\u001b[39;00m\n\u001b[0;32m---> 20\u001b[0m \u001b[38;5;28;01mfrom\u001b[39;00m \u001b[38;5;21;01mnumpy\u001b[39;00m\u001b[38;5;21;01m.\u001b[39;00m\u001b[38;5;21;01mcompat\u001b[39;00m \u001b[38;5;28;01mimport\u001b[39;00m unicode\n\u001b[1;32m     21\u001b[0m \u001b[38;5;28;01mfrom\u001b[39;00m \u001b[38;5;21;01mnumpy\u001b[39;00m\u001b[38;5;21;01m.\u001b[39;00m\u001b[38;5;21;01mcore\u001b[39;00m\u001b[38;5;21;01m.\u001b[39;00m\u001b[38;5;21;01m_string_helpers\u001b[39;00m \u001b[38;5;28;01mimport\u001b[39;00m english_lower\n\u001b[1;32m     22\u001b[0m \u001b[38;5;28;01mfrom\u001b[39;00m \u001b[38;5;21;01mnumpy\u001b[39;00m\u001b[38;5;21;01m.\u001b[39;00m\u001b[38;5;21;01mcore\u001b[39;00m\u001b[38;5;21;01m.\u001b[39;00m\u001b[38;5;21;01mmultiarray\u001b[39;00m \u001b[38;5;28;01mimport\u001b[39;00m typeinfo, dtype\n",
      "File \u001b[0;32m/data/leslie/sarthak/environments/hyena_backup2/lib/python3.11/site-packages/numpy/compat/__init__.py:14\u001b[0m\n\u001b[1;32m     12\u001b[0m \u001b[38;5;28;01mfrom\u001b[39;00m \u001b[38;5;21;01m.\u001b[39;00m\u001b[38;5;21;01m.\u001b[39;00m\u001b[38;5;21;01m_utils\u001b[39;00m \u001b[38;5;28;01mimport\u001b[39;00m _inspect\n\u001b[1;32m     13\u001b[0m \u001b[38;5;28;01mfrom\u001b[39;00m \u001b[38;5;21;01m.\u001b[39;00m\u001b[38;5;21;01m.\u001b[39;00m\u001b[38;5;21;01m_utils\u001b[39;00m\u001b[38;5;21;01m.\u001b[39;00m\u001b[38;5;21;01m_inspect\u001b[39;00m \u001b[38;5;28;01mimport\u001b[39;00m getargspec, formatargspec\n\u001b[0;32m---> 14\u001b[0m \u001b[38;5;28;01mfrom\u001b[39;00m \u001b[38;5;21;01m.\u001b[39;00m \u001b[38;5;28;01mimport\u001b[39;00m py3k\n\u001b[1;32m     15\u001b[0m \u001b[38;5;28;01mfrom\u001b[39;00m \u001b[38;5;21;01m.\u001b[39;00m\u001b[38;5;21;01mpy3k\u001b[39;00m \u001b[38;5;28;01mimport\u001b[39;00m \u001b[38;5;241m*\u001b[39m\n\u001b[1;32m     17\u001b[0m __all__ \u001b[38;5;241m=\u001b[39m []\n",
      "File \u001b[0;32m<frozen importlib._bootstrap>:1176\u001b[0m, in \u001b[0;36m_find_and_load\u001b[0;34m(name, import_)\u001b[0m\n",
      "File \u001b[0;32m<frozen importlib._bootstrap>:1147\u001b[0m, in \u001b[0;36m_find_and_load_unlocked\u001b[0;34m(name, import_)\u001b[0m\n",
      "File \u001b[0;32m<frozen importlib._bootstrap>:690\u001b[0m, in \u001b[0;36m_load_unlocked\u001b[0;34m(spec)\u001b[0m\n",
      "File \u001b[0;32m<frozen importlib._bootstrap_external>:936\u001b[0m, in \u001b[0;36mexec_module\u001b[0;34m(self, module)\u001b[0m\n",
      "File \u001b[0;32m<frozen importlib._bootstrap_external>:1032\u001b[0m, in \u001b[0;36mget_code\u001b[0;34m(self, fullname)\u001b[0m\n",
      "File \u001b[0;32m<frozen importlib._bootstrap_external>:1131\u001b[0m, in \u001b[0;36mget_data\u001b[0;34m(self, path)\u001b[0m\n",
      "\u001b[0;31mKeyboardInterrupt\u001b[0m: "
     ]
    }
   ],
   "source": [
    "#now change env to a pytorch one and try again\n",
    "import sys\n",
    "sys.path.append('/data/leslie/sarthak/chrombpnet')\n",
    "from bpnetlite.bpnet import BPNet\n",
    "\n",
    "#now let's try loading the model using the model method\n",
    "model_path = '/data/leslie/sarthak/data/chrombpnet_test/bias_model_1000/models/k562_bias.h5'\n",
    "model = BPNet(128,4,1,0)\n",
    "# model = model.from_chrombpnet(model_path)"
   ]
  },
  {
   "cell_type": "code",
   "execution_count": null,
   "metadata": {},
   "outputs": [
    {
     "data": {
      "text/plain": [
       "BPNet(\n",
       "  (iconv): Conv1d(4, 128, kernel_size=(21,), stride=(1,), padding=(10,))\n",
       "  (irelu): ReLU()\n",
       "  (rconvs): ModuleList(\n",
       "    (0): Conv1d(128, 128, kernel_size=(3,), stride=(1,), padding=(2,), dilation=(2,))\n",
       "    (1): Conv1d(128, 128, kernel_size=(3,), stride=(1,), padding=(4,), dilation=(4,))\n",
       "    (2): Conv1d(128, 128, kernel_size=(3,), stride=(1,), padding=(8,), dilation=(8,))\n",
       "    (3): Conv1d(128, 128, kernel_size=(3,), stride=(1,), padding=(16,), dilation=(16,))\n",
       "  )\n",
       "  (rrelus): ModuleList(\n",
       "    (0-3): 4 x ReLU()\n",
       "  )\n",
       "  (fconv): Conv1d(128, 1, kernel_size=(75,), stride=(1,), padding=(37,))\n",
       "  (linear): Linear(in_features=128, out_features=1, bias=True)\n",
       ")"
      ]
     },
     "execution_count": 2,
     "metadata": {},
     "output_type": "execute_result"
    }
   ],
   "source": [
    "import torch\n",
    "model"
   ]
  },
  {
   "cell_type": "code",
   "execution_count": null,
   "metadata": {},
   "outputs": [
    {
     "name": "stdout",
     "output_type": "stream",
     "text": [
      "torch.Size([64, 1, 992])\n"
     ]
    }
   ],
   "source": [
    "data = torch.rand(64,4,1024)*10\n",
    "out = model(data)\n",
    "print(out[0].shape)\n",
    "#so this makes it 992...\n",
    "\n",
    "#we now modified the class method to optinally select a"
   ]
  },
  {
   "cell_type": "code",
   "execution_count": null,
   "metadata": {},
   "outputs": [
    {
     "name": "stdout",
     "output_type": "stream",
     "text": [
      "torch.Size([64, 1, 800])\n"
     ]
    }
   ],
   "source": [
    "model = BPNet(128,4,1,0,trimming=(1024-800)//2) #this is the amount to trim it by else it trims it based on n_layers\n",
    "data = torch.rand(64,4,1024)*10\n",
    "out = model(data)\n",
    "print(out[0].shape)"
   ]
  },
  {
   "cell_type": "code",
   "execution_count": 2,
   "metadata": {},
   "outputs": [],
   "source": [
    "#so we modified the class method let's do it once more!\n",
    "\n",
    "import sys\n",
    "sys.path.append('/data/leslie/sarthak/chrombpnet')\n",
    "from bpnetlite.bpnet import BPNet\n",
    "\n",
    "#now let's try loading the model using the model method\n",
    "model_path = '/data/leslie/sarthak/data/chrombpnet_test/bias_model_1000/models/k562_bias.h5'\n",
    "model = BPNet.from_chrombpnet(model_path,trimming=(1024-800)//2)"
   ]
  },
  {
   "cell_type": "code",
   "execution_count": 3,
   "metadata": {},
   "outputs": [
    {
     "name": "stdout",
     "output_type": "stream",
     "text": [
      "torch.Size([64, 1, 800])\n"
     ]
    }
   ],
   "source": [
    "#test the output\n",
    "import torch\n",
    "data = torch.rand(64,4,1024)*10\n",
    "out = model(data)\n",
    "print(out[0].shape)"
   ]
  },
  {
   "cell_type": "code",
   "execution_count": 7,
   "metadata": {},
   "outputs": [
    {
     "name": "stdout",
     "output_type": "stream",
     "text": [
      "torch.Size([64, 1, 800])\n",
      "(tensor([[[18.1972, 16.5076, 18.5163,  ..., 17.5866, 18.2075, 16.1460]],\n",
      "\n",
      "        [[16.4211, 16.8045, 15.4146,  ..., 18.4047, 13.4632, 17.7552]],\n",
      "\n",
      "        [[17.5493, 17.5314, 15.9911,  ..., 17.2461, 16.4586, 17.2044]],\n",
      "\n",
      "        ...,\n",
      "\n",
      "        [[16.2961, 19.4594, 17.5705,  ..., 16.5637, 16.1835, 16.0648]],\n",
      "\n",
      "        [[15.7617, 16.5974, 15.8781,  ..., 17.3675, 16.0852, 16.2983]],\n",
      "\n",
      "        [[18.4622, 17.9159, 17.3200,  ..., 18.8353, 17.8724, 16.3885]]],\n",
      "       grad_fn=<SliceBackward0>), tensor([[0.3181],\n",
      "        [0.3637],\n",
      "        [0.5114],\n",
      "        [0.7545],\n",
      "        [0.5496],\n",
      "        [0.5451],\n",
      "        [0.4257],\n",
      "        [0.4215],\n",
      "        [0.4670],\n",
      "        [0.4628],\n",
      "        [0.2385],\n",
      "        [0.4687],\n",
      "        [0.7036],\n",
      "        [0.6573],\n",
      "        [0.2930],\n",
      "        [0.4032],\n",
      "        [0.3923],\n",
      "        [0.3897],\n",
      "        [0.4952],\n",
      "        [0.4041],\n",
      "        [0.4898],\n",
      "        [0.5279],\n",
      "        [0.6936],\n",
      "        [0.5533],\n",
      "        [0.8648],\n",
      "        [0.4256],\n",
      "        [0.3628],\n",
      "        [0.2837],\n",
      "        [0.5972],\n",
      "        [0.3056],\n",
      "        [0.6482],\n",
      "        [0.5622],\n",
      "        [0.4748],\n",
      "        [0.2735],\n",
      "        [0.1936],\n",
      "        [0.4362],\n",
      "        [0.4575],\n",
      "        [0.5946],\n",
      "        [0.6807],\n",
      "        [0.5391],\n",
      "        [0.5444],\n",
      "        [0.2479],\n",
      "        [0.4148],\n",
      "        [0.6056],\n",
      "        [0.3119],\n",
      "        [0.4262],\n",
      "        [0.2669],\n",
      "        [0.6569],\n",
      "        [0.4650],\n",
      "        [0.5998],\n",
      "        [0.9152],\n",
      "        [0.3333],\n",
      "        [0.4769],\n",
      "        [0.1099],\n",
      "        [0.4545],\n",
      "        [0.5197],\n",
      "        [0.5418],\n",
      "        [0.3455],\n",
      "        [0.3713],\n",
      "        [0.5707],\n",
      "        [0.5551],\n",
      "        [0.4912],\n",
      "        [0.5987],\n",
      "        [0.6329]], grad_fn=<ViewBackward0>))\n"
     ]
    }
   ],
   "source": [
    "import numpy as np\n",
    "model.eval()\n",
    "random_data = np.load('/data/leslie/sarthak/data/chrombpnet_test/random_data.npy')\n",
    "out = model(torch.tensor(random_data, dtype=torch.float32))\n",
    "print(out[0].shape)\n",
    "print(out)"
   ]
  },
  {
   "cell_type": "code",
   "execution_count": 8,
   "metadata": {},
   "outputs": [],
   "source": [
    "#save out the data with savez\n",
    "np.savez('/data/leslie/sarthak/data/chrombpnet_test/random_data_out.npz', profile=out[0].detach().numpy(), counts=out[1].detach().numpy())"
   ]
  },
  {
   "cell_type": "code",
   "execution_count": 8,
   "metadata": {},
   "outputs": [
    {
     "name": "stdout",
     "output_type": "stream",
     "text": [
      "4\n",
      "128\n",
      "112\n"
     ]
    }
   ],
   "source": [
    "print(model.n_layers)\n",
    "print(model.n_filters) #both of these are correct...\n",
    "print(model.trimming)\n",
    "#the kernel size seems correct too..."
   ]
  },
  {
   "cell_type": "code",
   "execution_count": 4,
   "metadata": {},
   "outputs": [
    {
     "name": "stdout",
     "output_type": "stream",
     "text": [
      "Namespace(cmd='pipeline', genome='/data/leslie/sarthak/data/chrombpnet_test/hg38.fa', chrom_sizes='/data/leslie/sarthak/data/chrombpnet_test/hg38.chrom.sizes', input_bam_file='/data/leslie/sarthak/data/chrombpnet_test/merged.bam', input_fragment_file=None, input_tagalign_file=None, output_dir='/data/leslie/sarthak/data/chrombpnet_test/chrombpnet_model/', data_type='ATAC', peaks='/data/leslie/sarthak/data/chrombpnet_test/peaks_no_blacklist.bed', nonpeaks='/data/leslie/sarthak/data/chrombpnet_test/output_negatives.bed', chr_fold_path='/data/leslie/sarthak/data/chrombpnet_test/splits/fold_0.json', outlier_threshold=0.9999, ATAC_ref_path=None, DNASE_ref_path=None, num_samples=10000, inputlen=1024, outputlen=800, seed=1234, epochs=50, early_stop=5, learning_rate=0.001, trackables=['logcount_predictions_loss', 'loss', 'logits_profile_predictions_loss', 'val_logcount_predictions_loss', 'val_loss', 'val_logits_profile_predictions_loss'], architecture_from_file=None, file_prefix=None, html_prefix='./', bsort=False, tmpdir=None, no_st=False, skip_preprocessing=False, save_data=None, bias_model_path='/data/leslie/sarthak/data/chrombpnet_test/bias_model_1000/models/k562_bias.h5', negative_sampling_ratio=0.1, filters=512, n_dilation_layers=8, max_jitter=500, batch_size=64)\n",
      "False\n",
      "None\n",
      "/data/leslie/sarthak/data/chrombpnet_test/bias_model_1000/models/k562_bias.h5\n"
     ]
    },
    {
     "name": "stderr",
     "output_type": "stream",
     "text": [
      "2024-06-12 18:58:37.631210: I tensorflow/core/platform/cpu_feature_guard.cc:151] This TensorFlow binary is optimized with oneAPI Deep Neural Network Library (oneDNN) to use the following CPU instructions in performance-critical operations:  SSE4.1 SSE4.2 AVX AVX2 AVX512F FMA\n",
      "To enable them in other operations, rebuild TensorFlow with the appropriate compiler flags.\n",
      "2024-06-12 18:58:42.728360: I tensorflow/core/common_runtime/gpu/gpu_device.cc:1525] Created device /job:localhost/replica:0/task:0/device:GPU:0 with 43483 MB memory:  -> device: 0, name: NVIDIA A40, pci bus id: 0000:17:00.0, compute capability: 8.6\n",
      "2024-06-12 18:58:42.730953: I tensorflow/core/common_runtime/gpu/gpu_device.cc:1525] Created device /job:localhost/replica:0/task:0/device:GPU:1 with 43483 MB memory:  -> device: 1, name: NVIDIA A40, pci bus id: 0000:65:00.0, compute capability: 8.6\n",
      "2024-06-12 18:58:42.733069: I tensorflow/core/common_runtime/gpu/gpu_device.cc:1525] Created device /job:localhost/replica:0/task:0/device:GPU:2 with 42978 MB memory:  -> device: 2, name: NVIDIA A40, pci bus id: 0000:ca:00.0, compute capability: 8.6\n",
      "2024-06-12 18:58:42.735335: I tensorflow/core/common_runtime/gpu/gpu_device.cc:1525] Created device /job:localhost/replica:0/task:0/device:GPU:3 with 42978 MB memory:  -> device: 3, name: NVIDIA A40, pci bus id: 0000:e3:00.0, compute capability: 8.6\n"
     ]
    },
    {
     "name": "stdout",
     "output_type": "stream",
     "text": [
      "got the model\n"
     ]
    }
   ],
   "source": [
    "#hmmm, seems the tf thing doesn't actually load the weights, let's find where weights are loaded\n",
    "#hmmm, yes it should say got the model, it probably didn't because we were calling the chrombpnet model one but that one doesn't exist!!\n",
    "\n",
    "#hmmm, let's try to load the tensorflow model to compare...\n",
    "#if it can load the data, that's good!\n",
    "\n",
    "\n",
    "import argparse\n",
    "import copy\n",
    "import sys\n",
    "sys.path.insert(0,'/data/leslie/sarthak/chrombpnet/')\n",
    "# print(sys.path)\n",
    "sys.path.append('/data/leslie/sarthak/chrombpnet/chrombpnet/')\n",
    "#path of test args\n",
    "#/data/leslie/sarthak/chrombpnet/chrombpnet/test_args.py\n",
    "from test_args import main\n",
    "sys.argv = [\n",
    "    'test_args.py', 'pipeline',\n",
    "    '-ibam', '/data/leslie/sarthak/data/chrombpnet_test/merged.bam',\n",
    "    '-d', 'ATAC',\n",
    "    '-g', '/data/leslie/sarthak/data/chrombpnet_test/hg38.fa',\n",
    "    '-c', '/data/leslie/sarthak/data/chrombpnet_test/hg38.chrom.sizes',\n",
    "    '-p', '/data/leslie/sarthak/data/chrombpnet_test/peaks_no_blacklist.bed',\n",
    "    '-n', '/data/leslie/sarthak/data/chrombpnet_test/output_negatives.bed',\n",
    "    '-fl', '/data/leslie/sarthak/data/chrombpnet_test/splits/fold_0.json',\n",
    "    '-b', '/data/leslie/sarthak/data/chrombpnet_test/bias_model_1000/models/k562_bias.h5',\n",
    "    '-o', '/data/leslie/sarthak/data/chrombpnet_test/chrombpnet_model/',\n",
    "    '-il', '1024',\n",
    "    '-ol', '800'\n",
    "]\n",
    "args = main()\n",
    "#and now we can simulate our args\n",
    "\n",
    "#now we modify args\n",
    "import json\n",
    "import os\n",
    "if args.file_prefix:\n",
    "    fpx = args.file_prefix+\"_\"\n",
    "else:\n",
    "    fpx = \"\"\n",
    "\n",
    "args.output_prefix = os.path.join(args.output_dir,\"auxiliary/{}data\".format(fpx))\n",
    "args.plus_shift = None\n",
    "args.minus_shift = None\n",
    "args.bigwig = os.path.join(args.output_dir,\"auxiliary/{}data_unstranded.bw\".format(fpx))\n",
    "args.output_prefix = os.path.join(args.output_dir,\"evaluation/{}bw_shift_qc\".format(fpx))\n",
    "folds = json.load(open(args.chr_fold_path))\n",
    "args.chr = folds[\"valid\"][0]\n",
    "args.pwm_width=24\n",
    "\n",
    "import chrombpnet.training.predict as predict\n",
    "args_copy = copy.deepcopy(args)\n",
    "args_copy.output_prefix = os.path.join(args_copy.output_dir,\"evaluation/bias\")\n",
    "args_copy.peaks = os.path.join(args.output_dir,\"auxiliary/{}filtered.peaks.bed\".format(fpx))\n",
    "args_copy.model_h5 = args.bias_model_path\n",
    "args_copy.nonpeaks = \"None\"\n",
    "print(args_copy.model_h5)\n",
    "\n",
    "metrics_dictionary = {\"counts_metrics\":{}, \"profile_metrics\":{}}\n",
    "\n",
    "# get model architecture to load - can load .hdf5 and .weights/.arch\n",
    "model=predict.load_model_wrapper(args_copy)\n",
    "#/data/leslie/sarthak/data/chrombpnet_test/bias_model_1000/models/k562_bias.h5"
   ]
  },
  {
   "cell_type": "code",
   "execution_count": 5,
   "metadata": {},
   "outputs": [
    {
     "name": "stdout",
     "output_type": "stream",
     "text": [
      "Model: \"model\"\n",
      "__________________________________________________________________________________________________\n",
      " Layer (type)                   Output Shape         Param #     Connected to                     \n",
      "==================================================================================================\n",
      " sequence (InputLayer)          [(None, 1024, 4)]    0           []                               \n",
      "                                                                                                  \n",
      " bpnet_1st_conv (Conv1D)        (None, 1004, 128)    10880       ['sequence[0][0]']               \n",
      "                                                                                                  \n",
      " bpnet_1conv (Conv1D)           (None, 1000, 128)    49280       ['bpnet_1st_conv[0][0]']         \n",
      "                                                                                                  \n",
      " bpnet_1crop (Cropping1D)       (None, 1000, 128)    0           ['bpnet_1st_conv[0][0]']         \n",
      "                                                                                                  \n",
      " add (Add)                      (None, 1000, 128)    0           ['bpnet_1conv[0][0]',            \n",
      "                                                                  'bpnet_1crop[0][0]']            \n",
      "                                                                                                  \n",
      " bpnet_2conv (Conv1D)           (None, 992, 128)     49280       ['add[0][0]']                    \n",
      "                                                                                                  \n",
      " bpnet_2crop (Cropping1D)       (None, 992, 128)     0           ['add[0][0]']                    \n",
      "                                                                                                  \n",
      " add_1 (Add)                    (None, 992, 128)     0           ['bpnet_2conv[0][0]',            \n",
      "                                                                  'bpnet_2crop[0][0]']            \n",
      "                                                                                                  \n",
      " bpnet_3conv (Conv1D)           (None, 976, 128)     49280       ['add_1[0][0]']                  \n",
      "                                                                                                  \n",
      " bpnet_3crop (Cropping1D)       (None, 976, 128)     0           ['add_1[0][0]']                  \n",
      "                                                                                                  \n",
      " add_2 (Add)                    (None, 976, 128)     0           ['bpnet_3conv[0][0]',            \n",
      "                                                                  'bpnet_3crop[0][0]']            \n",
      "                                                                                                  \n",
      " bpnet_4conv (Conv1D)           (None, 944, 128)     49280       ['add_2[0][0]']                  \n",
      "                                                                                                  \n",
      " bpnet_4crop (Cropping1D)       (None, 944, 128)     0           ['add_2[0][0]']                  \n",
      "                                                                                                  \n",
      " add_3 (Add)                    (None, 944, 128)     0           ['bpnet_4conv[0][0]',            \n",
      "                                                                  'bpnet_4crop[0][0]']            \n",
      "                                                                                                  \n",
      " prof_out_precrop (Conv1D)      (None, 870, 1)       9601        ['add_3[0][0]']                  \n",
      "                                                                                                  \n",
      " logits_profile_predictions_pre  (None, 800, 1)      0           ['prof_out_precrop[0][0]']       \n",
      " flatten (Cropping1D)                                                                             \n",
      "                                                                                                  \n",
      " gap (GlobalAveragePooling1D)   (None, 128)          0           ['add_3[0][0]']                  \n",
      "                                                                                                  \n",
      " logits_profile_predictions (Fl  (None, 800)         0           ['logits_profile_predictions_pref\n",
      " atten)                                                          latten[0][0]']                   \n",
      "                                                                                                  \n",
      " logcount_predictions (Dense)   (None, 1)            129         ['gap[0][0]']                    \n",
      "                                                                                                  \n",
      "==================================================================================================\n",
      "Total params: 217,730\n",
      "Trainable params: 217,730\n",
      "Non-trainable params: 0\n",
      "__________________________________________________________________________________________________\n"
     ]
    }
   ],
   "source": [
    "model.summary()"
   ]
  },
  {
   "cell_type": "code",
   "execution_count": 6,
   "metadata": {},
   "outputs": [
    {
     "name": "stderr",
     "output_type": "stream",
     "text": [
      "2024-06-12 18:59:33.518541: I tensorflow/stream_executor/cuda/cuda_dnn.cc:368] Loaded cuDNN version 8907\n",
      "2024-06-12 18:59:35.949113: W tensorflow/stream_executor/gpu/asm_compiler.cc:111] *** WARNING *** You are using ptxas 11.0.221, which is older than 11.1. ptxas before 11.1 is known to miscompile XLA code, leading to incorrect results or invalid-address errors.\n",
      "\n",
      "You may not need to update to CUDA 11.1; cherry-picking the ptxas binary is often sufficient.\n",
      "2024-06-12 18:59:36.059249: W tensorflow/stream_executor/gpu/asm_compiler.cc:230] Falling back to the CUDA driver for PTX compilation; ptxas does not support CC 8.6\n",
      "2024-06-12 18:59:36.059297: W tensorflow/stream_executor/gpu/asm_compiler.cc:233] Used ptxas at /usr/local/cuda-11.0/bin/ptxas\n",
      "2024-06-12 18:59:36.059526: W tensorflow/stream_executor/gpu/redzone_allocator.cc:314] UNIMPLEMENTED: /usr/local/cuda-11.0/bin/ptxas ptxas too old. Falling back to the driver to compile.\n",
      "Relying on driver to perform ptx compilation. \n",
      "Modify $PATH to customize ptxas location.\n",
      "This message will be only logged once.\n"
     ]
    },
    {
     "name": "stdout",
     "output_type": "stream",
     "text": [
      "(64, 800)\n",
      "[array([[18.196798, 16.507322, 18.515823, ..., 17.58556 , 18.207127,\n",
      "        16.145851],\n",
      "       [16.421154, 16.80496 , 15.415009, ..., 18.405018, 13.463007,\n",
      "        17.755552],\n",
      "       [17.548872, 17.531399, 15.990284, ..., 17.246464, 16.459332,\n",
      "        17.20493 ],\n",
      "       ...,\n",
      "       [16.295742, 19.459198, 17.570374, ..., 16.563522, 16.183237,\n",
      "        16.064318],\n",
      "       [15.76068 , 16.596828, 15.877914, ..., 17.367533, 16.085135,\n",
      "        16.298552],\n",
      "       [18.461845, 17.91561 , 17.319199, ..., 18.835732, 17.872557,\n",
      "        16.388456]], dtype=float32), array([[0.34984246],\n",
      "       [0.3525459 ],\n",
      "       [0.5043141 ],\n",
      "       [0.7030291 ],\n",
      "       [0.57013   ],\n",
      "       [0.5940352 ],\n",
      "       [0.4291471 ],\n",
      "       [0.45199585],\n",
      "       [0.48480594],\n",
      "       [0.45125434],\n",
      "       [0.25628242],\n",
      "       [0.43266168],\n",
      "       [0.67358077],\n",
      "       [0.66231596],\n",
      "       [0.25336158],\n",
      "       [0.3737521 ],\n",
      "       [0.38447112],\n",
      "       [0.45783415],\n",
      "       [0.5205494 ],\n",
      "       [0.40876624],\n",
      "       [0.47173804],\n",
      "       [0.5735371 ],\n",
      "       [0.6165283 ],\n",
      "       [0.5229032 ],\n",
      "       [0.8256651 ],\n",
      "       [0.45805967],\n",
      "       [0.40622562],\n",
      "       [0.30208898],\n",
      "       [0.58793795],\n",
      "       [0.30609816],\n",
      "       [0.64602697],\n",
      "       [0.57541275],\n",
      "       [0.5209849 ],\n",
      "       [0.33353826],\n",
      "       [0.223741  ],\n",
      "       [0.44857734],\n",
      "       [0.4236592 ],\n",
      "       [0.55551   ],\n",
      "       [0.65464246],\n",
      "       [0.53499365],\n",
      "       [0.55756813],\n",
      "       [0.30892512],\n",
      "       [0.4174739 ],\n",
      "       [0.5976522 ],\n",
      "       [0.32461938],\n",
      "       [0.44499728],\n",
      "       [0.2992318 ],\n",
      "       [0.6355907 ],\n",
      "       [0.41004986],\n",
      "       [0.5863553 ],\n",
      "       [0.8857746 ],\n",
      "       [0.32561526],\n",
      "       [0.5146594 ],\n",
      "       [0.10831809],\n",
      "       [0.45394802],\n",
      "       [0.5623053 ],\n",
      "       [0.58254945],\n",
      "       [0.30634123],\n",
      "       [0.39091268],\n",
      "       [0.573459  ],\n",
      "       [0.53355616],\n",
      "       [0.47794184],\n",
      "       [0.54915506],\n",
      "       [0.68199503]], dtype=float32)]\n"
     ]
    }
   ],
   "source": [
    "#now load the numpy data\n",
    "import numpy as np\n",
    "random_data = np.load('/data/leslie/sarthak/data/chrombpnet_test/random_data.npy')\n",
    "out = model.predict(random_data.transpose(0,2,1)) #we used .predict, so that should be correct?...\n",
    "print(out[0].shape)\n",
    "print(out)"
   ]
  },
  {
   "cell_type": "code",
   "execution_count": 7,
   "metadata": {},
   "outputs": [],
   "source": [
    "#let's save out these results using np.savez\n",
    "np.savez('/data/leslie/sarthak/data/chrombpnet_test/random_data_out_tf.npz', profile=out[0], counts=out[1])"
   ]
  },
  {
   "cell_type": "code",
   "execution_count": 2,
   "metadata": {},
   "outputs": [],
   "source": [
    "#and now plot it\n",
    "#first load the tf data\n",
    "import numpy as np\n",
    "data_tf = np.load('/data/leslie/sarthak/data/chrombpnet_test/random_data_out_tf.npz')\n",
    "profile_tf = data_tf['profile']\n",
    "counts_tf = data_tf['counts']\n",
    "#and the pytorch data\n",
    "data_pt = np.load('/data/leslie/sarthak/data/chrombpnet_test/random_data_out.npz')\n",
    "profile_pt = data_pt['profile']\n",
    "counts_pt = data_pt['counts']\n",
    "import matplotlib.pyplot as plt\n",
    "import seaborn as sns"
   ]
  },
  {
   "cell_type": "code",
   "execution_count": 3,
   "metadata": {},
   "outputs": [
    {
     "data": {
      "text/plain": [
       "<matplotlib.collections.PathCollection at 0x7f98ab517b10>"
      ]
     },
     "execution_count": 3,
     "metadata": {},
     "output_type": "execute_result"
    },
    {
     "data": {
      "image/png": "[encoded data removed]",
      "text/plain": [
       "<Figure size 640x480 with 1 Axes>"
      ]
     },
     "metadata": {},
     "output_type": "display_data"
    }
   ],
   "source": [
    "plt.scatter(profile_tf.flatten(), profile_pt.flatten())"
   ]
  },
  {
   "cell_type": "code",
   "execution_count": 7,
   "metadata": {},
   "outputs": [
    {
     "data": {
      "text/plain": [
       "Text(0.5, 1.0, 'Counts difference of bias model')"
      ]
     },
     "execution_count": 7,
     "metadata": {},
     "output_type": "execute_result"
    },
    {
     "data": {
      "image/png": "[encoded data removed]",
      "text/plain": [
       "<Figure size 640x480 with 1 Axes>"
      ]
     },
     "metadata": {},
     "output_type": "display_data"
    }
   ],
   "source": [
    "plt.scatter(counts_pt, counts_tf)\n",
    "#and the 1,1 line\n",
    "mymax = max(counts_pt.max(), counts_tf.max())\n",
    "plt.plot([0,mymax],[0,mymax])\n",
    "plt.xlabel('Pytorch')\n",
    "plt.ylabel('Tensorflow')\n",
    "plt.title('Counts difference of bias model')"
   ]
  },
  {
   "cell_type": "code",
   "execution_count": 8,
   "metadata": {},
   "outputs": [
    {
     "data": {
      "image/png": "[encoded data removed]",
      "text/plain": [
       "<Figure size 1000x400 with 1 Axes>"
      ]
     },
     "metadata": {},
     "output_type": "display_data"
    }
   ],
   "source": [
    "import numpy as np\n",
    "\n",
    "# Flatten the profiles for histogram comparison\n",
    "flat_profile1 = profile_tf.flatten()\n",
    "flat_profile2 = profile_pt.flatten()\n",
    "\n",
    "plt.figure(figsize=(10, 4))\n",
    "plt.hist(flat_profile1, bins=50, alpha=0.5, label='Model 1')\n",
    "plt.hist(flat_profile2, bins=50, alpha=0.5, label='Model 2')\n",
    "plt.title('Histogram of Profile Outputs')\n",
    "plt.xlabel('Value')\n",
    "plt.ylabel('Frequency')\n",
    "plt.legend()\n",
    "plt.show()\n"
   ]
  },
  {
   "cell_type": "code",
   "execution_count": 9,
   "metadata": {},
   "outputs": [
    {
     "data": {
      "text/plain": [
       "Text(0.5, 1.0, 'Percentage change of profile outputs')"
      ]
     },
     "execution_count": 9,
     "metadata": {},
     "output_type": "execute_result"
    },
    {
     "data": {
      "image/png": "[encoded data removed]",
      "text/plain": [
       "<Figure size 640x480 with 1 Axes>"
      ]
     },
     "metadata": {},
     "output_type": "display_data"
    }
   ],
   "source": [
    "#plot the percentage change elementwise\n",
    "plt.hist((profile_tf.flatten()-profile_pt.flatten())/profile_tf.flatten(), bins=50)\n",
    "plt.title('Percentage change of profile outputs')"
   ]
  },
  {
   "cell_type": "code",
   "execution_count": 10,
   "metadata": {},
   "outputs": [
    {
     "data": {
      "text/plain": [
       "Text(0.5, 1.0, 'Percentage change of counts outputs')"
      ]
     },
     "execution_count": 10,
     "metadata": {},
     "output_type": "execute_result"
    },
    {
     "data": {
      "image/png": "[encoded data removed]",
      "text/plain": [
       "<Figure size 640x480 with 1 Axes>"
      ]
     },
     "metadata": {},
     "output_type": "display_data"
    }
   ],
   "source": [
    "#and percentage change of counts\n",
    "plt.hist((counts_tf.flatten()-counts_pt.flatten())/counts_tf.flatten(), bins=50)\n",
    "plt.title('Percentage change of counts outputs')"
   ]
  }
 ],
 "metadata": {
  "kernelspec": {
   "display_name": "Python 3",
   "language": "python",
   "name": "python3"
  },
  "language_info": {
   "codemirror_mode": {
    "name": "ipython",
    "version": 3
   },
   "file_extension": ".py",
   "mimetype": "text/x-python",
   "name": "python",
   "nbconvert_exporter": "python",
   "pygments_lexer": "ipython3",
   "version": "3.11.7"
  }
 },
 "nbformat": 4,
 "nbformat_minor": 2
}
